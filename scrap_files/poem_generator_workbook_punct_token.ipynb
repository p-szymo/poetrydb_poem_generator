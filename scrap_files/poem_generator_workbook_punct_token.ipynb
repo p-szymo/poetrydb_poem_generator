{
 "cells": [
  {
   "cell_type": "markdown",
   "metadata": {},
   "source": [
    "# Rudimentary poetry generator"
   ]
  },
  {
   "cell_type": "markdown",
   "metadata": {},
   "source": [
    "## *Skip to end of notebook to get straight to generating poetry*\n",
    "* Open json file below (after \"Second milestone!\" cell) and run the function! No need to download anything.\n",
    "* If running the code from the beginning, you may need to install certain packages, such as wordninja."
   ]
  },
  {
   "cell_type": "code",
   "execution_count": 19,
   "metadata": {},
   "outputs": [
    {
     "name": "stdout",
     "output_type": "stream",
     "text": [
      "Requirement already satisfied: nltk in /opt/anaconda3/envs/learn-env/lib/python3.6/site-packages (3.4.5)\r\n",
      "Requirement already satisfied: six in /opt/anaconda3/envs/learn-env/lib/python3.6/site-packages (from nltk) (1.12.0)\r\n"
     ]
    }
   ],
   "source": [
    "!pip install nltk"
   ]
  },
  {
   "cell_type": "markdown",
   "metadata": {},
   "source": [
    "### Import necessary libraries"
   ]
  },
  {
   "cell_type": "code",
   "execution_count": 10,
   "metadata": {},
   "outputs": [],
   "source": [
    "from scrap_functions import *\n",
    "from collections import defaultdict\n",
    "import string\n",
    "import json\n",
    "import re\n",
    "import random\n",
    "import nltk"
   ]
  },
  {
   "cell_type": "markdown",
   "metadata": {},
   "source": [
    "### Make API calls and organize"
   ]
  },
  {
   "cell_type": "code",
   "execution_count": 3,
   "metadata": {},
   "outputs": [],
   "source": [
    "base_url = \"http://poetrydb.org/author\""
   ]
  },
  {
   "cell_type": "code",
   "execution_count": 4,
   "metadata": {},
   "outputs": [
    {
     "data": {
      "text/plain": [
       "'Adam Lindsay Gordon'"
      ]
     },
     "execution_count": 4,
     "metadata": {},
     "output_type": "execute_result"
    }
   ],
   "source": [
    "authors = author_grabber(base_url)\n",
    "authors[0]"
   ]
  },
  {
   "cell_type": "code",
   "execution_count": 5,
   "metadata": {},
   "outputs": [
    {
     "data": {
      "text/plain": [
       "'A Song of Autumn'"
      ]
     },
     "execution_count": 5,
     "metadata": {},
     "output_type": "execute_result"
    }
   ],
   "source": [
    "titles = [title_grabber(author) for author in authors]\n",
    "titles = [title for sublist in titles for title in sublist]\n",
    "titles[0]"
   ]
  },
  {
   "cell_type": "code",
   "execution_count": 6,
   "metadata": {},
   "outputs": [],
   "source": [
    "poems = [poem_grabber(title) for title in titles]"
   ]
  },
  {
   "cell_type": "code",
   "execution_count": 7,
   "metadata": {},
   "outputs": [
    {
     "data": {
      "text/plain": [
       "['where shall we go for our garlands glad \\n at the falling of the year \\n when the burnt-up banks are yellow and sad \\n when the boughs are yellow and sere \\n where are the old ones that once we had \\n and when are the new ones near \\n what shall we do for our garlands glad \\n at the falling of the year \\n child can i tell where the garlands go \\n can i say where the lost leaves veer \\n on the brown-burnt banks when the wild winds blow \\n when they drift through the dead-wood drear \\n girl when the garlands of next year glow \\n you may gather again my dear \\n but i go where the last years lost leaves go \\n at the falling of the year',\n",
       " \"the ocean heaves around us still \\n with long and measured swell \\n the autumn gales our canvas fill \\n our ship rides smooth and well \\n the broad atlantic's bed of foam \\n still breaks against our prow \\n i shed no tears at quitting home \\n nor will i shed them now \\n\\t \\n against the bulwarks on the poop \\n i lean and watch the sun \\n behind the red horizon stoop  \\n his race is nearly run \\n those waves will never quench his light \\n o'er which they seem to close \\n to-morrow he will rise as bright \\n as he this morning rose \\n\\t \\n how brightly gleams the orb of day \\n across the trackless sea \\n how lightly dance the waves that play \\n like dolphins in our lee \\n the restless waters seem to say \\n in smothered tones to me \\n how many thousand miles away \\n my native land must be \\n\\t \\n speak ocean is my home the same \\n now all is new to me  \\n the tropic sky's resplendent flame \\n the vast expanse of sea \\n does all around her yet unchanged \\n the well-known aspect wear \\n oh can the leagues that i have ranged \\n have made no difference there \\n\\t \\n how vivid recollection's hand \\n recalls the scene once more \\n i see the same tall poplars stand \\n beside the garden door \\n i see the bird-cage hanging still \\n and where my sister set \\n the flowers in the window-sill  \\n can they be living yet \\n\\t \\n let woman's nature cherish grief \\n i rarely heave a sigh \\n before emotion takes relief \\n in listless apathy \\n while from my pipe the vapours curl \\n towards the evening sky \\n and 'neath my feet the billows whirl \\n in dull monotony \\n\\t \\n the sky still wears the crimson streak \\n of sol's departing ray \\n some briny drops are on my cheek \\n 'tis but the salt sea spray \\n then let our barque the ocean roam \\n our keel the billows plough \\n i shed no tears at quitting home \\n nor will i shed them now\"]"
      ]
     },
     "execution_count": 7,
     "metadata": {},
     "output_type": "execute_result"
    }
   ],
   "source": [
    "poems[0:2]"
   ]
  },
  {
   "cell_type": "code",
   "execution_count": 8,
   "metadata": {},
   "outputs": [
    {
     "data": {
      "text/plain": [
       "(3118, 3118, list)"
      ]
     },
     "execution_count": 8,
     "metadata": {},
     "output_type": "execute_result"
    }
   ],
   "source": [
    "len(titles), len(poems), type(poems)"
   ]
  },
  {
   "cell_type": "code",
   "execution_count": 9,
   "metadata": {},
   "outputs": [],
   "source": [
    "poems = \" \\n \".join(poems)"
   ]
  },
  {
   "cell_type": "code",
   "execution_count": 10,
   "metadata": {},
   "outputs": [
    {
     "data": {
      "text/plain": [
       "(11810217, str)"
      ]
     },
     "execution_count": 10,
     "metadata": {},
     "output_type": "execute_result"
    }
   ],
   "source": [
    "len(poems), type(poems)"
   ]
  },
  {
   "cell_type": "code",
   "execution_count": 11,
   "metadata": {},
   "outputs": [],
   "source": [
    "with open(\"poems_raw_some_punct.txt\", \"w\") as output:\n",
    "    output.write(poems)"
   ]
  },
  {
   "cell_type": "markdown",
   "metadata": {},
   "source": [
    "## First milestone! One very long string of poetry.\n",
    "* If you have any adjustments before turning into a dictionary, open the text file and proceed from here."
   ]
  },
  {
   "cell_type": "code",
   "execution_count": 4,
   "metadata": {},
   "outputs": [
    {
     "data": {
      "text/plain": [
       "'where shall we go for our garlands glad \\n at the falling of the year \\n when the burnt-up banks are yellow and sad \\n when the boughs are yellow and sere \\n where are the old ones that once we had \\n and when are the new ones near \\n what shall we do for our garlands glad \\n at the falling of the year \\n child can i tell where the garlands go \\n can i say where the lost leaves veer \\n on the brown-burnt banks when the wild winds blow \\n when they drift through the dead-wood drear \\n girl when the garlands '"
      ]
     },
     "execution_count": 4,
     "metadata": {},
     "output_type": "execute_result"
    }
   ],
   "source": [
    "f = open(\"poems_raw_some_punct.txt\", \"r\")\n",
    "poems_raw = f.read()\n",
    "poems_raw[:500]"
   ]
  },
  {
   "cell_type": "markdown",
   "metadata": {},
   "source": [
    "* I want to keep the newline and tab characters, so I temporarily change them to different words. Since I'm eventually segmenting the string, I chose two words that don't appear in the poetry (since it's all pre-1900) and that the segmenter will recognize as a single word."
   ]
  },
  {
   "cell_type": "code",
   "execution_count": 5,
   "metadata": {},
   "outputs": [
    {
     "data": {
      "text/plain": [
       "'where shall we go for our garlands glad airplane at the falling of the year airplane when the burnt-up banks are yellow and sad airplane when the boughs are yellow and sere airplane where are the old ones that once we had airplane and when are the new ones near airplane what shall we do for our garlands glad airplane at the falling of the year airplane child can i tell where the garlands go airplane can i say where the lost leaves veer airplane on the brown-burnt banks when the wild winds blow a'"
      ]
     },
     "execution_count": 5,
     "metadata": {},
     "output_type": "execute_result"
    }
   ],
   "source": [
    "poems_edit = re.sub(r'\\n', 'airplane', poems_raw)\n",
    "poems_edit = re.sub(r'\\t', ' automobile', poems_edit)\n",
    "poems_edit[:500]"
   ]
  },
  {
   "cell_type": "code",
   "execution_count": 6,
   "metadata": {},
   "outputs": [
    {
     "data": {
      "text/plain": [
       "['airplane', 'when', 'the', 'burnt-up', 'banks']"
      ]
     },
     "execution_count": 6,
     "metadata": {},
     "output_type": "execute_result"
    }
   ],
   "source": [
    "import nltk\n",
    "poems_segmented = nltk.word_tokenize(poems_edit)\n",
    "poems_segmented[15:20]"
   ]
  },
  {
   "cell_type": "code",
   "execution_count": 7,
   "metadata": {},
   "outputs": [
    {
     "data": {
      "text/plain": [
       "2534938"
      ]
     },
     "execution_count": 7,
     "metadata": {},
     "output_type": "execute_result"
    }
   ],
   "source": [
    "len(poems_segmented)"
   ]
  },
  {
   "cell_type": "markdown",
   "metadata": {},
   "source": [
    "* Get rid of some hanging apostophres and hyphens"
   ]
  },
  {
   "cell_type": "code",
   "execution_count": 8,
   "metadata": {},
   "outputs": [
    {
     "data": {
      "text/plain": [
       "2534938"
      ]
     },
     "execution_count": 8,
     "metadata": {},
     "output_type": "execute_result"
    }
   ],
   "source": [
    "single_chars = [\"'\", '-']\n",
    "poems_segmented = [word if word not in single_chars else word.replace(word, 'automobile') for word in poems_segmented]\n",
    "len(poems_segmented)"
   ]
  },
  {
   "cell_type": "markdown",
   "metadata": {},
   "source": [
    "* Create a dictionary with each word present in the word list (poems_segmented) as the key and each word that follows that now-key as part of a list of values."
   ]
  },
  {
   "cell_type": "code",
   "execution_count": 11,
   "metadata": {},
   "outputs": [
    {
     "data": {
      "text/plain": [
       "['must', 'airplane', \"'s\", 'airplane', 'airplane']"
      ]
     },
     "execution_count": 11,
     "metadata": {},
     "output_type": "execute_result"
    }
   ],
   "source": [
    "poems_dictionary = defaultdict(list)\n",
    "\n",
    "for current_word, next_word in zip(poems_segmented, poems_segmented[1:]):\n",
    "    poems_dictionary[current_word].append(next_word)\n",
    "\n",
    "poems_dictionary['land'][:5]"
   ]
  },
  {
   "cell_type": "markdown",
   "metadata": {},
   "source": [
    "* After changing the 'airplane' and 'automobile' values back to newline and tab characters via the lines_tabs_creator function, I change their respective keys in the dictionary accordingly."
   ]
  },
  {
   "cell_type": "code",
   "execution_count": 12,
   "metadata": {},
   "outputs": [
    {
     "data": {
      "text/plain": [
       "['must', '\\n', \"'s\", '\\n', '\\n']"
      ]
     },
     "execution_count": 12,
     "metadata": {},
     "output_type": "execute_result"
    }
   ],
   "source": [
    "poems_dictionary = lines_tabs_creator(poems_dictionary)\n",
    "poems_dictionary['\\n'] = poems_dictionary.pop('airplane')\n",
    "poems_dictionary['\\t'] = poems_dictionary.pop('automobile')\n",
    "poems_dictionary['land'][:5]"
   ]
  },
  {
   "cell_type": "code",
   "execution_count": 13,
   "metadata": {},
   "outputs": [],
   "source": [
    "f = open(\"poems_dictionary_some_punct.json\",\"w\")\n",
    "f.write(json.dumps(poems_dictionary))\n",
    "f.close()"
   ]
  },
  {
   "cell_type": "markdown",
   "metadata": {},
   "source": [
    "## Second milestone! One very big dictionary.\n",
    "* If you want to get right to generating some poems, proceed from here and run the auto_pometizer function after opening the json file."
   ]
  },
  {
   "cell_type": "code",
   "execution_count": 14,
   "metadata": {},
   "outputs": [],
   "source": [
    "from scrap_functions import *\n",
    "import json\n",
    "\n",
    "with open(\"poems_dictionary_some_punct.json\", \"r\") as f:\n",
    "    poems_dictionary = json.load(f)"
   ]
  },
  {
   "cell_type": "code",
   "execution_count": 15,
   "metadata": {},
   "outputs": [
    {
     "name": "stdout",
     "output_type": "stream",
     "text": [
      "What length doth thy sweet nothings require? 1000\n",
      "\n",
      "\n",
      "\n",
      " daisy-spangled lawn \n",
      " ah me alhama \n",
      " i halse \n",
      " with th \t \n",
      " that dark \n",
      " forthwith to vent applied to hold \n",
      " orderly \n",
      " \t \t \t to your mansion \n",
      " and never fleshly eye \n",
      " with hymns our friend familiar life so wonderously was and then in blind feelings \n",
      " sweet \n",
      " wanders up the withered from the line \n",
      " \t \t \t \n",
      " than the heads with nightshade bowers where little stay amaril you overhead \n",
      " that slew the thame 's meal before the world must be pitiful body fell \n",
      " still true touchstone of worth \n",
      " upon a piece then lose \n",
      " o'er him never \n",
      " to destroy or countenance \n",
      " the happy the government is seen great deliverer now is under god make no wonder didna care \n",
      " of greatness of triumph \n",
      " that worshipped on hydaspes \t \t \t \t \n",
      " \t \n",
      " fair breast \n",
      " \t \n",
      " they not deem 'd with harmonies we boldly writ \n",
      " that gave me to be mourned like these covering if he meant by my bench-legged fyce \n",
      " profoundly out at their mere pillar 's birthright esau \n",
      " 'can the feast abhorr 'd \n",
      " of her despair and lips are the burnt-up banks connecticut \n",
      " at least of many a picture 's \n",
      " \t as is the crude and a horseman hurries on death \n",
      " as doge our last \n",
      " god forewot must be past my bread \n",
      " and harmonise the morning 's power divine interpreter by arguments temptations rise and unco fit consummation forth as real dignity with his griefs a neat \n",
      " the tempest sweep \n",
      " the red and yet would pass not at home \n",
      " you took on one rose to thy name \n",
      " and desires of flesh and beauty and waving \n",
      " as victors \n",
      " you then after thee at once gone acrosst the fountain he can i repeat in hir hestes hath missed mine ears \n",
      " \t \t \t \t \n",
      " nourished on my bane \n",
      " \t he received a poet that spot of western ind \n",
      " \t sad in every land the future fame be the electric fountains \n",
      " his fate well what to feel or grasp \n",
      " he lay \n",
      " i turn to the treatment horrid league to see the warmth induced me thine own blood \n",
      " \t \t \t \t \t \t \t oak strumon sees \n",
      " attraction \n",
      " \t so much of their suzerain \n",
      " for bandages of his malencolye \n",
      " metals in that he was in the sky \n",
      " yon thick cloud \n",
      " it still belongs \n",
      " for bread mark his palace which all the night-long crying thus most and life \n",
      " renowned \n",
      " turning on that parted they die \n",
      " 'into the dead but creeping \n",
      " wer showing her trance which in consideration \n",
      " till midnight went on her token \n",
      " cocking tails do ye lovers on their strength dese ears \n",
      " 't was foreign graces draw the boy grew \n",
      " let waite rejoice with a most accepted mason of hers were slain \n",
      " beatrice \n",
      " now i believe and their children \n",
      " save \n",
      " and in the bushes for they know so that it a day \n",
      " the name you lest \n",
      " thou pleasest mei live well see such a wolf-cub the dance and eagle-spirit of mutual found asleep again betray \n",
      " the wee the four \n",
      " \t \t against strange tripod was or either before have survived the leaves go where champions cheated him thorugh which means tragic choices such an arrow \n",
      " for that halting vengeance of the kisses to think of the black \n",
      " this wilderness of that heard from them wits do n't together with danger ever such is hard upon earth and the great west \n",
      " xv \n",
      " 32 \n",
      " \t \n",
      " \t \n",
      " what dostow now low the lost the sea-eagle brought \n",
      " a hell \n",
      " \t \n",
      " himself does live call me thy light said \n",
      " and apple that i will not evermore as far \n",
      " \t \n",
      " st fillan 's lewd or discounted \n",
      " \t \n",
      " my sole companion of the wandering but sheds perfume \n",
      " \t \t \n",
      " fortune is his voyage \n",
      " by pain \n",
      " 189 with price of his decline of natural good friend of dust \n",
      " of staining \n",
      " the morning twilight and adds joy takes a column \n",
      " and furnish matter of the falling tears of round your slave and certainly wrangle e'er they had not vital chords in their \n",
      " saugh that sphinx with her hood thy beauty ever tarry \n",
      " \t \t \n",
      " to hir wonder quelled the last may be wondered though my lays \n",
      " then so merry day nevah once \n",
      " \t \t \n",
      " \t answering she drew a mind \n",
      " \t \n",
      " thus would free from that crowns and fights \n",
      " \t \t thyself dost thou wouldst thou that they brought forth all its dome its lay thy lore did you know enoch poor bodies \n",
      " \t the three and the cunning-warded keys \n",
      " and virgin bear \n",
      " peggy neer be without a fearful extremity \n",
      " they 'd his eyes threw off wild pomp and cherry-blossoms and ioye and with this be prudent general glow \n",
      " \t \t \t \n",
      " of his sheep \n",
      " \t \n",
      " a vale \n",
      " my verse could bring him came about the longest \n",
      " then the sedge \n",
      " \t yonder \n",
      " the despair \n",
      " \t \t \t \t \n",
      " unborn childold age which led \n",
      " thou weighed out of pictured shape of man quite dead \n",
      " and with pride from his head and did my future race \n",
      " he spake \n",
      " 't was what matter who lieth the last foe \n",
      " that beef \n",
      " \t they went weeping leaves of nature grow taller things \n",
      " that kisses to close \t wrung \n",
      " \t \t a winter well such been masterd young ye began to right \n",
      " to night finished prone horizon \n",
      " maddalo 'and life away \n",
      " \t \t \t \n",
      "\n"
     ]
    }
   ],
   "source": [
    "auto_pometizer(poems_dictionary)"
   ]
  },
  {
   "cell_type": "markdown",
   "metadata": {},
   "source": [
    "## Final milestone for now! First poetry generator."
   ]
  }
 ],
 "metadata": {
  "kernelspec": {
   "display_name": "Python [conda env:learn-env] *",
   "language": "python",
   "name": "conda-env-learn-env-py"
  },
  "language_info": {
   "codemirror_mode": {
    "name": "ipython",
    "version": 3
   },
   "file_extension": ".py",
   "mimetype": "text/x-python",
   "name": "python",
   "nbconvert_exporter": "python",
   "pygments_lexer": "ipython3",
   "version": "3.6.9"
  }
 },
 "nbformat": 4,
 "nbformat_minor": 2
}
