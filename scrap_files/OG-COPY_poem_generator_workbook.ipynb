{
 "cells": [
  {
   "cell_type": "code",
   "execution_count": 1,
   "metadata": {},
   "outputs": [],
   "source": [
    "from functions import *\n",
    "from collections import defaultdict\n",
    "import string\n",
    "import json\n",
    "import re\n",
    "import random"
   ]
  },
  {
   "cell_type": "code",
   "execution_count": 2,
   "metadata": {},
   "outputs": [],
   "source": [
    "base_url = \"http://poetrydb.org/author\""
   ]
  },
  {
   "cell_type": "code",
   "execution_count": 3,
   "metadata": {},
   "outputs": [
    {
     "data": {
      "text/plain": [
       "'Adam Lindsay Gordon'"
      ]
     },
     "execution_count": 3,
     "metadata": {},
     "output_type": "execute_result"
    }
   ],
   "source": [
    "authors = author_grabber(base_url)\n",
    "authors[0]"
   ]
  },
  {
   "cell_type": "code",
   "execution_count": 4,
   "metadata": {},
   "outputs": [
    {
     "data": {
      "text/plain": [
       "'A Song of Autumn'"
      ]
     },
     "execution_count": 4,
     "metadata": {},
     "output_type": "execute_result"
    }
   ],
   "source": [
    "titles = [title_grabber(author) for author in authors]\n",
    "titles = [title for sublist in titles for title in sublist]\n",
    "titles[0]"
   ]
  },
  {
   "cell_type": "code",
   "execution_count": 5,
   "metadata": {},
   "outputs": [],
   "source": [
    "poems = [poem_grabber(title) for title in titles]"
   ]
  },
  {
   "cell_type": "code",
   "execution_count": 6,
   "metadata": {},
   "outputs": [
    {
     "data": {
      "text/plain": [
       "['where shall we go for our garlands glad \\n at the falling of the year \\n when the burntup banks are yellow and sad \\n when the boughs are yellow and sere \\n where are the old ones that once we had \\n and when are the new ones near \\n what shall we do for our garlands glad \\n at the falling of the year \\n child can i tell where the garlands go \\n can i say where the lost leaves veer \\n on the brownburnt banks when the wild winds blow \\n when they drift through the deadwood drear \\n girl when the garlands of next year glow \\n you may gather again my dear \\n but i go where the last years lost leaves go \\n at the falling of the year',\n",
       " 'the ocean heaves around us still \\n with long and measured swell \\n the autumn gales our canvas fill \\n our ship rides smooth and well \\n the broad atlantics bed of foam \\n still breaks against our prow \\n i shed no tears at quitting home \\n nor will i shed them now \\n \\n against the bulwarks on the poop \\n i lean and watch the sun \\n behind the red horizon stoop  \\n his race is nearly run \\n those waves will never quench his light \\n oer which they seem to close \\n tomorrow he will rise as bright \\n as he this morning rose \\n \\n how brightly gleams the orb of day \\n across the trackless sea \\n how lightly dance the waves that play \\n like dolphins in our lee \\n the restless waters seem to say \\n in smothered tones to me \\n how many thousand miles away \\n my native land must be \\n \\n speak ocean is my home the same \\n now all is new to me  \\n the tropic skys resplendent flame \\n the vast expanse of sea \\n does all around her yet unchanged \\n the wellknown aspect wear \\n oh can the leagues that i have ranged \\n have made no difference there \\n \\n how vivid recollections hand \\n recalls the scene once more \\n i see the same tall poplars stand \\n beside the garden door \\n i see the birdcage hanging still \\n and where my sister set \\n the flowers in the windowsill  \\n can they be living yet \\n \\n let womans nature cherish grief \\n i rarely heave a sigh \\n before emotion takes relief \\n in listless apathy \\n while from my pipe the vapours curl \\n towards the evening sky \\n and neath my feet the billows whirl \\n in dull monotony \\n \\n the sky still wears the crimson streak \\n of sols departing ray \\n some briny drops are on my cheek \\n tis but the salt sea spray \\n then let our barque the ocean roam \\n our keel the billows plough \\n i shed no tears at quitting home \\n nor will i shed them now']"
      ]
     },
     "execution_count": 6,
     "metadata": {},
     "output_type": "execute_result"
    }
   ],
   "source": [
    "poems[0:2]"
   ]
  },
  {
   "cell_type": "code",
   "execution_count": 7,
   "metadata": {},
   "outputs": [
    {
     "data": {
      "text/plain": [
       "(3118, 3118, list)"
      ]
     },
     "execution_count": 7,
     "metadata": {},
     "output_type": "execute_result"
    }
   ],
   "source": [
    "len(titles), len(poems), type(poems)"
   ]
  },
  {
   "cell_type": "code",
   "execution_count": 8,
   "metadata": {},
   "outputs": [],
   "source": [
    "poems = \" \\n \".join(poems)"
   ]
  },
  {
   "cell_type": "code",
   "execution_count": 9,
   "metadata": {},
   "outputs": [
    {
     "data": {
      "text/plain": [
       "(11624217, str)"
      ]
     },
     "execution_count": 9,
     "metadata": {},
     "output_type": "execute_result"
    }
   ],
   "source": [
    "len(poems), type(poems)"
   ]
  },
  {
   "cell_type": "code",
   "execution_count": 10,
   "metadata": {},
   "outputs": [],
   "source": [
    "with open(\"poems_raw.txt\", \"w\") as output:\n",
    "    output.write(poems)"
   ]
  },
  {
   "cell_type": "markdown",
   "metadata": {},
   "source": [
    "# START HERE\n",
    "* Open text string"
   ]
  },
  {
   "cell_type": "code",
   "execution_count": 2,
   "metadata": {},
   "outputs": [
    {
     "data": {
      "text/plain": [
       "'where shall we go for our garlands glad \\n at the falling of the year \\n when the burntup banks are yellow and sad \\n when the boughs are yellow and sere \\n where are the old ones that once we had \\n and when are the new ones near \\n what shall we do for our garlands glad \\n at the falling of the year \\n child can i tell where the garlands go \\n can i say where the lost leaves veer \\n on the brownburnt banks when the wild winds blow \\n when they drift through the deadwood drear \\n girl when the garlands of '"
      ]
     },
     "execution_count": 2,
     "metadata": {},
     "output_type": "execute_result"
    }
   ],
   "source": [
    "f = open(\"poems_raw.txt\", \"r\")\n",
    "poems_raw = f.read()\n",
    "poems_raw[:500]"
   ]
  },
  {
   "cell_type": "code",
   "execution_count": 126,
   "metadata": {},
   "outputs": [
    {
     "data": {
      "text/plain": [
       "'where shall we go for our garlands glad x2 at the falling of the year x2 when the burntup banks are yellow and sad x2 when the boughs are yellow and sere x2 where are the old ones that once we had x2 and when are the new ones near x2 what shall we do for our garlands glad x2 at the falling of the year x2 child can i tell where the garlands go x2 can i say where the lost leaves veer x2 on the brownburnt banks when the wild winds blow x2 when they drift through the deadwood drear x2 girl when the '"
      ]
     },
     "execution_count": 126,
     "metadata": {},
     "output_type": "execute_result"
    }
   ],
   "source": [
    "poems_edit = re.sub(r'\\n', 'x2', poems_raw)\n",
    "poems_edit = re.sub(r'\\t', ' y2', poems_edit)\n",
    "poems_edit[:500]"
   ]
  },
  {
   "cell_type": "code",
   "execution_count": 127,
   "metadata": {},
   "outputs": [
    {
     "data": {
      "text/plain": [
       "['where', 'shall', 'we', 'go', 'for', 'our', 'garlands', 'glad', 'x2', 'at']"
      ]
     },
     "execution_count": 127,
     "metadata": {},
     "output_type": "execute_result"
    }
   ],
   "source": [
    "poems_edit = poems_edit.translate({ord(x):None for x in string.punctuation}).split()\n",
    "poems_edit[0:10]"
   ]
  },
  {
   "cell_type": "code",
   "execution_count": 128,
   "metadata": {},
   "outputs": [
    {
     "data": {
      "text/plain": [
       "['x2']"
      ]
     },
     "execution_count": 128,
     "metadata": {},
     "output_type": "execute_result"
    }
   ],
   "source": [
    "poems_dictionary = defaultdict(list)\n",
    "\n",
    "for current_word, next_word in zip(poems_edit, poems_edit[1:]):\n",
    "    poems_dictionary[current_word].append(next_word)\n",
    "\n",
    "poems_dictionary['nabobland']"
   ]
  },
  {
   "cell_type": "code",
   "execution_count": 129,
   "metadata": {},
   "outputs": [
    {
     "data": {
      "text/plain": [
       "['\\n']"
      ]
     },
     "execution_count": 129,
     "metadata": {},
     "output_type": "execute_result"
    }
   ],
   "source": [
    "poems_dictionary = lines_tabs_creator(poems_dictionary)\n",
    "poems_dictionary['\\n'] = poems_dictionary.pop('x2')\n",
    "poems_dictionary['\\t'] = poems_dictionary.pop('y2')\n",
    "poems_dictionary['nabobland']"
   ]
  },
  {
   "cell_type": "code",
   "execution_count": 130,
   "metadata": {},
   "outputs": [],
   "source": [
    "f = open(\"poems_dictionary.json\",\"w\")\n",
    "f.write(json.dumps(poems_dictionary))\n",
    "f.close()"
   ]
  },
  {
   "cell_type": "code",
   "execution_count": 131,
   "metadata": {},
   "outputs": [],
   "source": [
    "f = open(\"poems_dictionary.txt\",\"w\")\n",
    "f.write(str(poems_dictionary))\n",
    "f.close()"
   ]
  },
  {
   "cell_type": "markdown",
   "metadata": {},
   "source": [
    "# OPEN DICT AS JSON"
   ]
  },
  {
   "cell_type": "code",
   "execution_count": 132,
   "metadata": {},
   "outputs": [],
   "source": [
    "with open(\"poems_dictionary.json\", \"r\") as f:\n",
    "    poems_dictionary = json.load(f)"
   ]
  },
  {
   "cell_type": "code",
   "execution_count": 134,
   "metadata": {},
   "outputs": [
    {
     "name": "stdout",
     "output_type": "stream",
     "text": [
      "What length doth thy sweet nothings require? 50\n",
      "\n",
      "\n",
      "\n",
      " fattening some perhaps forestalling night is not that was mad ere morning sun and as the world was indeed must away \n",
      " and i have had you see \n",
      " and conveyed the decree \n",
      " that side stood up their trade her fathers kiss wear but neer discover wide \n",
      " and\n"
     ]
    }
   ],
   "source": [
    "auto_pometizer()"
   ]
  },
  {
   "cell_type": "code",
   "execution_count": 124,
   "metadata": {},
   "outputs": [
    {
     "data": {
      "text/plain": [
       "'!\"#$%&\\'()*+,-./:;<=>?@[\\\\]^_`{|}~'"
      ]
     },
     "execution_count": 124,
     "metadata": {},
     "output_type": "execute_result"
    }
   ],
   "source": [
    "string.punctuation"
   ]
  },
  {
   "cell_type": "code",
   "execution_count": null,
   "metadata": {},
   "outputs": [],
   "source": []
  }
 ],
 "metadata": {
  "kernelspec": {
   "display_name": "Python [conda env:learn-env] *",
   "language": "python",
   "name": "conda-env-learn-env-py"
  },
  "language_info": {
   "codemirror_mode": {
    "name": "ipython",
    "version": 3
   },
   "file_extension": ".py",
   "mimetype": "text/x-python",
   "name": "python",
   "nbconvert_exporter": "python",
   "pygments_lexer": "ipython3",
   "version": "3.6.9"
  }
 },
 "nbformat": 4,
 "nbformat_minor": 2
}
