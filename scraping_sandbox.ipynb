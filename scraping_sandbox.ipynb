{
 "cells": [
  {
   "cell_type": "markdown",
   "metadata": {},
   "source": [
    "# Scraping sandbox\n",
    "\n",
    "- In this notebook, you can find the work of a single poet or multiple poets and save those as a long string.\n",
    "- The text file can then be used for in the [main notebook](autopometizer.ipynb) or in my [tanka generator](https://github.com/p-szymo/tanka_generator)."
   ]
  },
  {
   "cell_type": "code",
   "execution_count": 1,
   "metadata": {},
   "outputs": [],
   "source": [
    "# import necessary functions\n",
    "from functions import *"
   ]
  },
  {
   "cell_type": "code",
   "execution_count": 10,
   "metadata": {},
   "outputs": [
    {
     "data": {
      "text/plain": [
       "['Adam Lindsay Gordon',\n",
       " 'Alan Seeger',\n",
       " 'Alexander Pope',\n",
       " 'Algernon Charles Swinburne',\n",
       " 'Ambrose Bierce',\n",
       " 'Amy Levy',\n",
       " 'Andrew Marvell',\n",
       " 'Ann Taylor',\n",
       " 'Anne Bradstreet',\n",
       " 'Anne Bronte',\n",
       " 'Anne Killigrew',\n",
       " 'Anne Kingsmill Finch',\n",
       " 'Annie Louisa Walker',\n",
       " 'Arthur Hugh Clough',\n",
       " 'Ben Jonson',\n",
       " 'Charles Kingsley',\n",
       " 'Charles Sorley',\n",
       " 'Charlotte Bronte',\n",
       " 'Charlotte Smith',\n",
       " 'Christina Rossetti',\n",
       " 'Christopher Marlowe',\n",
       " 'Christopher Smart',\n",
       " 'Coventry Patmore',\n",
       " 'Edgar Allan Poe',\n",
       " 'Edmund Spenser',\n",
       " 'Edward Fitzgerald',\n",
       " 'Edward Lear',\n",
       " 'Edward Taylor',\n",
       " 'Edward Thomas',\n",
       " 'Eliza Cook',\n",
       " 'Elizabeth Barrett Browning',\n",
       " 'Emily Bronte',\n",
       " 'Emily Dickinson',\n",
       " 'Emma Lazarus',\n",
       " 'Ernest Dowson',\n",
       " 'Eugene Field',\n",
       " 'Francis Thompson',\n",
       " 'Geoffrey Chaucer',\n",
       " 'George Eliot',\n",
       " 'George Gordon, Lord Byron',\n",
       " 'George Herbert',\n",
       " 'George Meredith',\n",
       " 'Gerard Manley Hopkins',\n",
       " 'Helen Hunt Jackson',\n",
       " 'Henry David Thoreau',\n",
       " 'Henry Vaughan',\n",
       " 'Henry Wadsworth Longfellow',\n",
       " 'Hugh Henry Brackenridge',\n",
       " 'Isaac Watts',\n",
       " 'James Henry Leigh Hunt',\n",
       " 'James Thomson',\n",
       " 'James Whitcomb Riley',\n",
       " 'Jane Austen',\n",
       " 'Jane Taylor',\n",
       " 'John Clare',\n",
       " 'John Donne',\n",
       " 'John Dryden',\n",
       " 'John Greenleaf Whittier',\n",
       " 'John Keats',\n",
       " 'John McCrae',\n",
       " 'John Milton',\n",
       " 'John Trumbull',\n",
       " 'John Wilmot',\n",
       " 'Jonathan Swift',\n",
       " 'Joseph Warton',\n",
       " 'Joyce Kilmer',\n",
       " 'Julia Ward Howe',\n",
       " 'Jupiter Hammon',\n",
       " 'Katherine Philips',\n",
       " 'Lady Mary Chudleigh',\n",
       " 'Lewis Carroll',\n",
       " 'Lord Alfred Tennyson',\n",
       " 'Louisa May Alcott',\n",
       " 'Major Henry Livingston, Jr.',\n",
       " 'Mark Twain',\n",
       " 'Mary Elizabeth Coleridge',\n",
       " 'Matthew Arnold',\n",
       " 'Matthew Prior',\n",
       " 'Michael Drayton',\n",
       " 'Oliver Goldsmith',\n",
       " 'Oliver Wendell Holmes',\n",
       " 'Oscar Wilde',\n",
       " 'Paul Laurence Dunbar',\n",
       " 'Percy Bysshe Shelley',\n",
       " 'Philip Freneau',\n",
       " 'Phillis Wheatley',\n",
       " 'Ralph Waldo Emerson',\n",
       " 'Richard Crashaw',\n",
       " 'Richard Lovelace',\n",
       " 'Robert Browning',\n",
       " 'Robert Burns',\n",
       " 'Robert Herrick',\n",
       " 'Robert Louis Stevenson',\n",
       " 'Robert Southey',\n",
       " 'Robinson',\n",
       " 'Rupert Brooke',\n",
       " 'Samuel Coleridge',\n",
       " 'Samuel Johnson',\n",
       " 'Sarah Flower Adams',\n",
       " 'Sidney Lanier',\n",
       " 'Sir John Suckling',\n",
       " 'Sir Philip Sidney',\n",
       " 'Sir Thomas Wyatt',\n",
       " 'Sir Walter Raleigh',\n",
       " 'Sir Walter Scott',\n",
       " 'Stephen Crane',\n",
       " 'Thomas Campbell',\n",
       " 'Thomas Chatterton',\n",
       " 'Thomas Flatman',\n",
       " 'Thomas Gray',\n",
       " 'Thomas Hood',\n",
       " 'Thomas Moore',\n",
       " 'Thomas Warton',\n",
       " 'Walt Whitman',\n",
       " 'Walter Savage Landor',\n",
       " 'Wilfred Owen',\n",
       " 'William Allingham',\n",
       " 'William Barnes',\n",
       " 'William Blake',\n",
       " 'William Browne',\n",
       " 'William Cowper',\n",
       " 'William Cullen Bryant',\n",
       " 'William Ernest Henley',\n",
       " 'William Lisle Bowles',\n",
       " 'William Morris',\n",
       " 'William Shakespeare',\n",
       " 'William Topaz McGonagall',\n",
       " 'William Vaughn Moody',\n",
       " 'William Wordsworth']"
      ]
     },
     "execution_count": 10,
     "metadata": {},
     "output_type": "execute_result"
    }
   ],
   "source": [
    "# get a list of authors\n",
    "authors = author_grabber('https://poetrydb.org/author')\n",
    "authors"
   ]
  },
  {
   "cell_type": "code",
   "execution_count": 2,
   "metadata": {},
   "outputs": [
    {
     "data": {
      "text/plain": [
       "['Primeval my Love for the Woman I Love.',\n",
       " 'Longings for Home.',\n",
       " 'Song of the Open Road.',\n",
       " 'Warble for Lilac-Time.',\n",
       " 'Or from that Sea of Time.']"
      ]
     },
     "execution_count": 2,
     "metadata": {},
     "output_type": "execute_result"
    }
   ],
   "source": [
    "# find poems by a particular poet\n",
    "ww_titles = title_grabber('Walt Whitman')\n",
    "ww_titles[:5]"
   ]
  },
  {
   "cell_type": "code",
   "execution_count": 3,
   "metadata": {},
   "outputs": [
    {
     "data": {
      "text/plain": [
       "['primeval my love for the woman i love, \\n o bride! o wife! more resistless, more enduring than i can tell, the thought of you! \\n then separate, as disembodied, the purest born, \\n the ethereal, the last athletic reality, my consolation, \\n i ascend i float in the regions of your love, o man, \\n o sharer of my roving life.',\n",
       " \"o magnet south! o glistening, perfumed south! my south! \\n o quick mettle, rich blood, impulse, and love! good and evil! o all dear to me! \\n o dear to me my birth things all moving things, and the trees where i was \\n \\t  \\t  born the \\n \\t  grains, \\n \\t  plants, rivers; \\n dear to me my own slow sluggish rivers where they flow, distant, over flats of silvery \\n \\t  \\t  sands, \\n \\t  or \\n \\t  through swamps; \\n dear to me the roanoke, the savannah, the altamahaw, the pedee, the tombigbee, the santee, \\n \\t  \\t  the \\n \\t  coosa, and the sabine; \\n o pensive, far away wandering, i return with my soul to haunt their banks again; \\n again in florida i float on transparent lakes i float on the okeechobee i cross \\n \\t  \\t  the \\n \\t  hummock land, or through pleasant openings, or dense forests; \\n i see the parrots in the woods i see the papaw tree and the blossoming titi; \\n again, sailing in my coaster, on deck, i coast off georgia i coast up the carolinas, \\n i see where the live oak is growing i see where the yellow pine, the scented \\n \\t  \\t  bay tree, the \\n \\t  lemon and orange, the cypress, the graceful palmetto; \\n i pass rude sea headlands and enter pamlico sound through an inlet, and dart my vision \\n \\t  \\t  inland; \\n o the cotton plant! the growing fields of rice, sugar, hemp! \\n the cactus, guarded with thorns the laurel tree, with large white flowers; \\n the range afar the richness and barrenness the old woods charged with mistletoe \\n \\t  \\t  and \\n \\t  trailing moss, \\n the piney odor and the gloom the awful natural stillness, (here in these dense swamps \\n \\t  \\t  the \\n \\t  freebooter carries his gun, and the fugitive slave has his conceal'd hut;) \\n o the strange fascination of these half known, half impassable swamps, infested by \\n \\t  \\t  reptiles, \\n \\t  resounding with the bellow of the alligator, the sad noises of the night owl and the \\n \\t  \\t  wild cat, \\n \\t  and \\n \\t  the whirr of the rattlesnake; \\n the mocking bird, the american mimic, singing all the forenoon singing through the \\n \\t  moon lit \\n \\t  night, \\n the humming bird, the wild turkey, the raccoon, the opossum; \\n a tennessee corn field the tall, graceful, long leav'd corn slender, \\n \\t  \\t  flapping, \\n \\t  bright \\n \\t  green with tassels with beautiful ears, each well sheath'd in its husk; \\n an arkansas prairie a sleeping lake, or still bayou; \\n o my heart! o tender and fierce pangs i can stand them not i will depart; \\n o to be a virginian, where i grew up! o to be a carolinian! \\n o longings irrepressible! o i will go back to old tennessee, and never wander more!\"]"
      ]
     },
     "execution_count": 3,
     "metadata": {},
     "output_type": "execute_result"
    }
   ],
   "source": [
    "# scrape the poems\n",
    "ww_poems = [poem_grabber(title, remove_punct=False) for title in ww_titles]\n",
    "ww_poems[:2]"
   ]
  },
  {
   "cell_type": "code",
   "execution_count": 4,
   "metadata": {},
   "outputs": [
    {
     "data": {
      "text/plain": [
       "(67, 67)"
      ]
     },
     "execution_count": 4,
     "metadata": {},
     "output_type": "execute_result"
    }
   ],
   "source": [
    "# make sure everything got pulled\n",
    "len(ww_titles), len(ww_poems)"
   ]
  },
  {
   "cell_type": "code",
   "execution_count": 7,
   "metadata": {},
   "outputs": [
    {
     "data": {
      "text/plain": [
       "'primeval my love for the woman i love, \\n o bride! o wife! more resistless, more enduring than i can '"
      ]
     },
     "execution_count": 7,
     "metadata": {},
     "output_type": "execute_result"
    }
   ],
   "source": [
    "# join poems together into one string\n",
    "ww_string = ' \\n '.join(ww_poems)\n",
    "ww_string[:100]"
   ]
  },
  {
   "cell_type": "code",
   "execution_count": 8,
   "metadata": {},
   "outputs": [],
   "source": [
    "# uncomment to save\n",
    "with open('whitman_poems.txt', 'w') as output:\n",
    "    output.write(ww_string)"
   ]
  }
 ],
 "metadata": {
  "kernelspec": {
   "display_name": "Python [conda env:learn-env] *",
   "language": "python",
   "name": "conda-env-learn-env-py"
  },
  "language_info": {
   "codemirror_mode": {
    "name": "ipython",
    "version": 3
   },
   "file_extension": ".py",
   "mimetype": "text/x-python",
   "name": "python",
   "nbconvert_exporter": "python",
   "pygments_lexer": "ipython3",
   "version": "3.6.9"
  }
 },
 "nbformat": 4,
 "nbformat_minor": 2
}
