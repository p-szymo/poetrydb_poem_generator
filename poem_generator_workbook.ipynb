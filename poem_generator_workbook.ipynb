{
 "cells": [
  {
   "cell_type": "markdown",
   "metadata": {},
   "source": [
    "# Rudimentary poetry generator (aka auto_pometizer)"
   ]
  },
  {
   "cell_type": "markdown",
   "metadata": {},
   "source": [
    "## *Skip to end of notebook to get straight to generating poetry*\n",
    "* Open json file below (after \"Second milestone!\" cell) and run the function! No need to download anything.\n",
    "* If running the code from the beginning, you may need to install certain packages, such as wordninja."
   ]
  },
  {
   "cell_type": "code",
   "execution_count": null,
   "metadata": {},
   "outputs": [],
   "source": [
    "!pip install wordninja"
   ]
  },
  {
   "cell_type": "markdown",
   "metadata": {},
   "source": [
    "### Import necessary libraries"
   ]
  },
  {
   "cell_type": "code",
   "execution_count": 1,
   "metadata": {},
   "outputs": [],
   "source": [
    "from functions import *\n",
    "from collections import defaultdict\n",
    "import string\n",
    "import json\n",
    "import re\n",
    "import random\n",
    "import wordninja"
   ]
  },
  {
   "cell_type": "markdown",
   "metadata": {},
   "source": [
    "### Make API calls and organize"
   ]
  },
  {
   "cell_type": "code",
   "execution_count": 2,
   "metadata": {},
   "outputs": [],
   "source": [
    "base_url = \"http://poetrydb.org/author\""
   ]
  },
  {
   "cell_type": "code",
   "execution_count": 3,
   "metadata": {},
   "outputs": [
    {
     "data": {
      "text/plain": [
       "'Adam Lindsay Gordon'"
      ]
     },
     "execution_count": 3,
     "metadata": {},
     "output_type": "execute_result"
    }
   ],
   "source": [
    "authors = author_grabber(base_url)\n",
    "authors[0]"
   ]
  },
  {
   "cell_type": "code",
   "execution_count": 4,
   "metadata": {},
   "outputs": [
    {
     "data": {
      "text/plain": [
       "'A Song of Autumn'"
      ]
     },
     "execution_count": 4,
     "metadata": {},
     "output_type": "execute_result"
    }
   ],
   "source": [
    "titles = [title_grabber(author) for author in authors]\n",
    "titles = [title for sublist in titles for title in sublist]\n",
    "titles[0]"
   ]
  },
  {
   "cell_type": "code",
   "execution_count": 5,
   "metadata": {},
   "outputs": [],
   "source": [
    "poems = [poem_grabber(title) for title in titles]"
   ]
  },
  {
   "cell_type": "code",
   "execution_count": 6,
   "metadata": {},
   "outputs": [
    {
     "data": {
      "text/plain": [
       "['where shall we go for our garlands glad \\n at the falling of the year \\n when the burntup banks are yellow and sad \\n when the boughs are yellow and sere \\n where are the old ones that once we had \\n and when are the new ones near \\n what shall we do for our garlands glad \\n at the falling of the year \\n child can i tell where the garlands go \\n can i say where the lost leaves veer \\n on the brownburnt banks when the wild winds blow \\n when they drift through the deadwood drear \\n girl when the garlands of next year glow \\n you may gather again my dear \\n but i go where the last years lost leaves go \\n at the falling of the year',\n",
       " 'the ocean heaves around us still \\n with long and measured swell \\n the autumn gales our canvas fill \\n our ship rides smooth and well \\n the broad atlantics bed of foam \\n still breaks against our prow \\n i shed no tears at quitting home \\n nor will i shed them now \\n \\t \\n against the bulwarks on the poop \\n i lean and watch the sun \\n behind the red horizon stoop  \\n his race is nearly run \\n those waves will never quench his light \\n oer which they seem to close \\n tomorrow he will rise as bright \\n as he this morning rose \\n \\t \\n how brightly gleams the orb of day \\n across the trackless sea \\n how lightly dance the waves that play \\n like dolphins in our lee \\n the restless waters seem to say \\n in smothered tones to me \\n how many thousand miles away \\n my native land must be \\n \\t \\n speak ocean is my home the same \\n now all is new to me  \\n the tropic skys resplendent flame \\n the vast expanse of sea \\n does all around her yet unchanged \\n the wellknown aspect wear \\n oh can the leagues that i have ranged \\n have made no difference there \\n \\t \\n how vivid recollections hand \\n recalls the scene once more \\n i see the same tall poplars stand \\n beside the garden door \\n i see the birdcage hanging still \\n and where my sister set \\n the flowers in the windowsill  \\n can they be living yet \\n \\t \\n let womans nature cherish grief \\n i rarely heave a sigh \\n before emotion takes relief \\n in listless apathy \\n while from my pipe the vapours curl \\n towards the evening sky \\n and neath my feet the billows whirl \\n in dull monotony \\n \\t \\n the sky still wears the crimson streak \\n of sols departing ray \\n some briny drops are on my cheek \\n tis but the salt sea spray \\n then let our barque the ocean roam \\n our keel the billows plough \\n i shed no tears at quitting home \\n nor will i shed them now']"
      ]
     },
     "execution_count": 6,
     "metadata": {},
     "output_type": "execute_result"
    }
   ],
   "source": [
    "poems[0:2]"
   ]
  },
  {
   "cell_type": "code",
   "execution_count": 9,
   "metadata": {},
   "outputs": [
    {
     "data": {
      "text/plain": [
       "(3118, 11865344)"
      ]
     },
     "execution_count": 9,
     "metadata": {},
     "output_type": "execute_result"
    }
   ],
   "source": [
    "# make sure everything got pulled\n",
    "len(titles), len(poems), type(poems)"
   ]
  },
  {
   "cell_type": "code",
   "execution_count": 8,
   "metadata": {},
   "outputs": [],
   "source": [
    "poems = \" \\n \".join(poems)"
   ]
  },
  {
   "cell_type": "code",
   "execution_count": 10,
   "metadata": {},
   "outputs": [
    {
     "data": {
      "text/plain": [
       "(11865344, str)"
      ]
     },
     "execution_count": 10,
     "metadata": {},
     "output_type": "execute_result"
    }
   ],
   "source": [
    "len(poems), type(poems)"
   ]
  },
  {
   "cell_type": "code",
   "execution_count": 11,
   "metadata": {},
   "outputs": [],
   "source": [
    "with open(\"poems_raw.txt\", \"w\") as output:\n",
    "    output.write(poems)"
   ]
  },
  {
   "cell_type": "markdown",
   "metadata": {},
   "source": [
    "## First milestone! One very long string of poetry.\n",
    "* If you have any adjustments before turning into a dictionary, open the text file and proceed from here."
   ]
  },
  {
   "cell_type": "code",
   "execution_count": 12,
   "metadata": {},
   "outputs": [
    {
     "data": {
      "text/plain": [
       "'where shall we go for our garlands glad \\n at the falling of the year \\n when the burntup banks are yellow and sad \\n when the boughs are yellow and sere \\n where are the old ones that once we had \\n and when are the new ones near \\n what shall we do for our garlands glad \\n at the falling of the year \\n child can i tell where the garlands go \\n can i say where the lost leaves veer \\n on the brownburnt banks when the wild winds blow \\n when they drift through the deadwood drear \\n girl when the garlands of '"
      ]
     },
     "execution_count": 12,
     "metadata": {},
     "output_type": "execute_result"
    }
   ],
   "source": [
    "from functions import *\n",
    "import re\n",
    "import wordninja\n",
    "from collections import defaultdict\n",
    "\n",
    "f = open(\"poems_raw.txt\", \"r\")\n",
    "poems_raw = f.read()\n",
    "poems_raw[:500]"
   ]
  },
  {
   "cell_type": "markdown",
   "metadata": {},
   "source": [
    "* I want to keep the newline and tab characters, so I temporarily change them to different words. Since I'm eventually segmenting the string, I chose two words that don't appear in the poetry (which is all pre-1900) and that the segmenter will recognize as a single word."
   ]
  },
  {
   "cell_type": "code",
   "execution_count": 13,
   "metadata": {},
   "outputs": [
    {
     "data": {
      "text/plain": [
       "'where shall we go for our garlands glad airplane at the falling of the year airplane when the burntup banks are yellow and sad airplane when the boughs are yellow and sere airplane where are the old ones that once we had airplane and when are the new ones near airplane what shall we do for our garlands glad airplane at the falling of the year airplane child can i tell where the garlands go airplane can i say where the lost leaves veer airplane on the brownburnt banks when the wild winds blow air'"
      ]
     },
     "execution_count": 13,
     "metadata": {},
     "output_type": "execute_result"
    }
   ],
   "source": [
    "poems_edit = re.sub(r'\\n', 'airplane', poems_raw)\n",
    "poems_edit = re.sub(r'\\t', 'automobile', poems_edit)\n",
    "poems_edit[:500]"
   ]
  },
  {
   "cell_type": "code",
   "execution_count": 14,
   "metadata": {},
   "outputs": [
    {
     "data": {
      "text/plain": [
       "['airplane', 'when', 'the', 'burnt', 'up']"
      ]
     },
     "execution_count": 14,
     "metadata": {},
     "output_type": "execute_result"
    }
   ],
   "source": [
    "poems_segmented = wordninja.split(poems_edit)\n",
    "poems_segmented[15:20]"
   ]
  },
  {
   "cell_type": "markdown",
   "metadata": {},
   "source": [
    "* Find any single letters (other than 'a' and 'i' and the very poetic 'o') that are hanging around, as they detract from the generated poems.\n",
    "\n",
    "* Replace them with 'automobile', which is currently the equivalent of '\\t', because you can never have enough tabs when trying to make a poem look more contemporary :P"
   ]
  },
  {
   "cell_type": "code",
   "execution_count": 15,
   "metadata": {},
   "outputs": [
    {
     "data": {
      "text/plain": [
       "['airplane', 'when', 'the', 'burnt', 'up']"
      ]
     },
     "execution_count": 15,
     "metadata": {},
     "output_type": "execute_result"
    }
   ],
   "source": [
    "single_letters = ['b','c','d','e','f','g','h','j','k','l','m','n','p','q','r','s','t','u','v','w','x','y','z']\n",
    "poems_segmented = [word if word not in single_letters else word.replace(word, 'automobile') for word in poems_segmented]\n",
    "poems_segmented[15:20]"
   ]
  },
  {
   "cell_type": "markdown",
   "metadata": {},
   "source": [
    "* Create a dictionary with each word present in the word list (poems_segmented) as the key and each word that follows that now-key as part of a list of values."
   ]
  },
  {
   "cell_type": "code",
   "execution_count": 16,
   "metadata": {},
   "outputs": [
    {
     "data": {
      "text/plain": [
       "['must', 'airplane', 'airplane', 'airplane', 'while']"
      ]
     },
     "execution_count": 16,
     "metadata": {},
     "output_type": "execute_result"
    }
   ],
   "source": [
    "poems_dictionary = defaultdict(list)\n",
    "\n",
    "for current_word, next_word in zip(poems_segmented, poems_segmented[1:]):\n",
    "    poems_dictionary[current_word].append(next_word)\n",
    "\n",
    "poems_dictionary['land'][:5]"
   ]
  },
  {
   "cell_type": "markdown",
   "metadata": {},
   "source": [
    "* After changing the 'airplane' and 'automobile' values back to newline and tab characters via the lines_tabs_creator function, I change their respective keys in the dictionary accordingly."
   ]
  },
  {
   "cell_type": "code",
   "execution_count": 17,
   "metadata": {},
   "outputs": [
    {
     "data": {
      "text/plain": [
       "['must', '\\n', '\\n', '\\n', 'while']"
      ]
     },
     "execution_count": 17,
     "metadata": {},
     "output_type": "execute_result"
    }
   ],
   "source": [
    "poems_dictionary = lines_tabs_creator(poems_dictionary)\n",
    "poems_dictionary['\\n'] = poems_dictionary.pop('airplane')\n",
    "poems_dictionary['\\t'] = poems_dictionary.pop('automobile')\n",
    "poems_dictionary['land'][:5]"
   ]
  },
  {
   "cell_type": "code",
   "execution_count": 18,
   "metadata": {},
   "outputs": [],
   "source": [
    "f = open(\"poems_dictionary.json\",\"w\")\n",
    "f.write(json.dumps(poems_dictionary))\n",
    "f.close()"
   ]
  },
  {
   "cell_type": "markdown",
   "metadata": {},
   "source": [
    "## Second milestone! One very big dictionary.\n",
    "* If you want to get right to generating some poems, proceed from here and run the auto_pometizer function after opening the json file."
   ]
  },
  {
   "cell_type": "code",
   "execution_count": 19,
   "metadata": {},
   "outputs": [],
   "source": [
    "from functions import *\n",
    "import json\n",
    "\n",
    "with open(\"poems_dictionary.json\", \"r\") as f:\n",
    "    poems_dictionary = json.load(f)"
   ]
  },
  {
   "cell_type": "code",
   "execution_count": 23,
   "metadata": {},
   "outputs": [
    {
     "name": "stdout",
     "output_type": "stream",
     "text": [
      "What length doth thy sweet nothings require? 1000\n",
      "\n",
      "\n",
      "\n",
      " daub a do not fashion \t \t both to smile sweetly on and no busy flame until eleven foot \n",
      " there \n",
      " \t \n",
      " receives reproach i will and on the dang rous cow de la uns \n",
      " of that he falls and wildly mock the \t twill be seen it \n",
      " where subsist \n",
      " treason espy \n",
      " but he hath chosen \n",
      " in which to reality \n",
      " for which the shore \n",
      " \t \n",
      " how welcome \n",
      " \t \n",
      " the mountains brow \n",
      " how might \n",
      " of the many an aged to no interest in our of gold and dark secret dark and bade wane and uncouth ly \t \n",
      " demurred a prettier bird \n",
      " which fairly spread \n",
      " gladly would not less thing could you perceive that bounds of malady is she would never was worth and hot in whatsoever star follows a melody \n",
      " \t secret charms \n",
      " ida \t of \n",
      " while he is fed with private life prolonged endurance and philip ray \n",
      " this made \n",
      " \t you \n",
      " now \n",
      " sar they drew him that even as on puppies \n",
      " and justice drive me for victory or nightly seats \n",
      " and the tourist can ye powers for right so abject ness \n",
      " for this new the tools true wife now my verses fire doth so slight blush she replied \n",
      " to all the con mig gs and bathe your share \n",
      " \t \n",
      " \t \n",
      " crimson no \t have drunk with christian should \t \t \n",
      " not a cage \n",
      " the east tennessee and at him who \t it seems an arrow sped \n",
      " \t face in every sheep the fingers \t \n",
      " \t \n",
      " so gentle juan instant flight \n",
      " \t \t told him with athens i was strange a venture \n",
      " about \n",
      " \t \t is safer main \n",
      " for healing to give you well awake \n",
      " she wove wattles and aped his verses ne the rocks a bee is rising morn a pak mair do rd which bind you shall see him by night \n",
      " to dish eat \n",
      " mar vail wonder seen under leaves behind \n",
      " thy tomb \n",
      " neither time does ever woman which the poor \t in this achi top \n",
      " she for every other music are us \n",
      " \t gain their sky \n",
      " she we found \n",
      " dared to yield to see \n",
      " thou stand to blows \n",
      " a sleeping flocks an un \n",
      " \t spirit \n",
      " the earth rejoiced \n",
      " the plain ing end \n",
      " feels new mown grass \n",
      " but both fell \n",
      " on the other use \n",
      " at length \n",
      " have been my \t i see animals \n",
      " ungrateful \n",
      " \t \t \t art \n",
      " and little warbler rouse up grow old mothers breath of riches \n",
      " even to mansfeld \t lay \n",
      " \t riel and of armies by \n",
      " the \t a sally brown so let hul de \n",
      " 1887 and brand \n",
      " what shall view \t to heaven \n",
      " \t \t than the \t \t \t \t \n",
      " and thrust through puddle \n",
      " \t beauty as or as for some day \n",
      " \t and by the lord what i cant help her neck \t \t \t \n",
      " fantastically tangled in its wondrous softness died \n",
      " \t rike \t \n",
      " first my mind assuages \t were a while moon and levels and a roman geste \n",
      " and withered him whose art i roused your self or see pastures and if the womb the comfort every creature \n",
      " \t \n",
      " is \n",
      " \t yon mass were of this ilk \t while sinners feet i may mingle are the ground \n",
      " \t said nothing but keep \n",
      " \t \n",
      " then my soul \n",
      " the old winter lifts from the noon hous ye \n",
      " for a king in the lass and faint moon benignly kind yet then my own o er the prize bemoan \t high vengeance \n",
      " \t fell not worth is vexing conceptions can teach her the falling of your echo of air let it settles in that \t observed \n",
      " and all confronted all that circe \n",
      " higher glow round his malm sey de good old worlds sole possession \n",
      " to some tyrants will \n",
      " with the kings of home to magna charta of myself may lift him homeward tread the bubble on those marks dint the cause she would be \n",
      " \t \t \t with its empire of mortal injury \n",
      " \t \t \n",
      " the dark and guiltless too fine wrought him for mine \n",
      " their wit \n",
      " so smooths her lip to the pleasant company \n",
      " as thou say not the stoutest heart and those downcast look to him not or to the tears falling of execution since his hive of that the green which falling not been to come \n",
      " than words but would \t \t praise that cloud with the white in livery of love thou art \n",
      " \t \n",
      " \t the last \n",
      " their dread \n",
      " the immortal life with he do not far from their retainers nay but always ruled \n",
      " only hope be \n",
      " seemed all at and morals shocking be thy hapless infant spirits bright \n",
      " so that skirts about \n",
      " and his head aches not give them back to expiate the sailor waiting bl amd \n",
      " all in the day we fly \n",
      " hurries me deeper for \t soft cheek shall see \n",
      " \t \t \n",
      " would have eek for the slanderer horror \n",
      " i can show \n",
      " the temple in it made them all the i saw that night who \n",
      " the coming in vain it blinks dull \n",
      " farr better to the wars alarms \n",
      " \t little think st thou hast thou art ill sift the heliconia \t \n",
      " had there flowery herb yielding not the web about his heart torment sent his discretion here condemned a fine extension of heaven \n",
      " so pure \n",
      " for me \n",
      " do more \n",
      " in the slow \t \t break \n",
      " een \n",
      " my empire\n"
     ]
    }
   ],
   "source": [
    "auto_pometizer(poems_dictionary)"
   ]
  },
  {
   "cell_type": "markdown",
   "metadata": {},
   "source": [
    "## Final milestone for now! First poetry generator."
   ]
  }
 ],
 "metadata": {
  "kernelspec": {
   "display_name": "Python [conda env:learn-env] *",
   "language": "python",
   "name": "conda-env-learn-env-py"
  },
  "language_info": {
   "codemirror_mode": {
    "name": "ipython",
    "version": 3
   },
   "file_extension": ".py",
   "mimetype": "text/x-python",
   "name": "python",
   "nbconvert_exporter": "python",
   "pygments_lexer": "ipython3",
   "version": "3.6.9"
  }
 },
 "nbformat": 4,
 "nbformat_minor": 2
}
