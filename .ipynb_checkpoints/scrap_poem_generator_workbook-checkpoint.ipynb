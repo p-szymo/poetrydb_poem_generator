{
 "cells": [
  {
   "cell_type": "code",
   "execution_count": 1,
   "metadata": {},
   "outputs": [],
   "source": [
    "from functions2 import *\n",
    "from collections import defaultdict\n",
    "import string\n",
    "import json\n",
    "import re\n",
    "import random\n",
    "import wordninja"
   ]
  },
  {
   "cell_type": "code",
   "execution_count": 2,
   "metadata": {},
   "outputs": [],
   "source": [
    "base_url = \"http://poetrydb.org/author\""
   ]
  },
  {
   "cell_type": "code",
   "execution_count": 3,
   "metadata": {},
   "outputs": [
    {
     "data": {
      "text/plain": [
       "'Adam Lindsay Gordon'"
      ]
     },
     "execution_count": 3,
     "metadata": {},
     "output_type": "execute_result"
    }
   ],
   "source": [
    "authors = author_grabber(base_url)\n",
    "authors[0]"
   ]
  },
  {
   "cell_type": "code",
   "execution_count": 4,
   "metadata": {},
   "outputs": [
    {
     "data": {
      "text/plain": [
       "'A Song of Autumn'"
      ]
     },
     "execution_count": 4,
     "metadata": {},
     "output_type": "execute_result"
    }
   ],
   "source": [
    "titles = [title_grabber(author) for author in authors]\n",
    "titles = [title for sublist in titles for title in sublist]\n",
    "titles[0]"
   ]
  },
  {
   "cell_type": "code",
   "execution_count": 5,
   "metadata": {},
   "outputs": [],
   "source": [
    "poems = [poem_grabber(title) for title in titles]"
   ]
  },
  {
   "cell_type": "code",
   "execution_count": 6,
   "metadata": {},
   "outputs": [
    {
     "data": {
      "text/plain": [
       "['where shall we go for our garlands glad \\n at the falling of the year \\n when the burntup banks are yellow and sad \\n when the boughs are yellow and sere \\n where are the old ones that once we had \\n and when are the new ones near \\n what shall we do for our garlands glad \\n at the falling of the year \\n child can i tell where the garlands go \\n can i say where the lost leaves veer \\n on the brownburnt banks when the wild winds blow \\n when they drift through the deadwood drear \\n girl when the garlands of next year glow \\n you may gather again my dear \\n but i go where the last years lost leaves go \\n at the falling of the year',\n",
       " 'the ocean heaves around us still \\n with long and measured swell \\n the autumn gales our canvas fill \\n our ship rides smooth and well \\n the broad atlantics bed of foam \\n still breaks against our prow \\n i shed no tears at quitting home \\n nor will i shed them now \\n \\n against the bulwarks on the poop \\n i lean and watch the sun \\n behind the red horizon stoop  \\n his race is nearly run \\n those waves will never quench his light \\n oer which they seem to close \\n tomorrow he will rise as bright \\n as he this morning rose \\n \\n how brightly gleams the orb of day \\n across the trackless sea \\n how lightly dance the waves that play \\n like dolphins in our lee \\n the restless waters seem to say \\n in smothered tones to me \\n how many thousand miles away \\n my native land must be \\n \\n speak ocean is my home the same \\n now all is new to me  \\n the tropic skys resplendent flame \\n the vast expanse of sea \\n does all around her yet unchanged \\n the wellknown aspect wear \\n oh can the leagues that i have ranged \\n have made no difference there \\n \\n how vivid recollections hand \\n recalls the scene once more \\n i see the same tall poplars stand \\n beside the garden door \\n i see the birdcage hanging still \\n and where my sister set \\n the flowers in the windowsill  \\n can they be living yet \\n \\n let womans nature cherish grief \\n i rarely heave a sigh \\n before emotion takes relief \\n in listless apathy \\n while from my pipe the vapours curl \\n towards the evening sky \\n and neath my feet the billows whirl \\n in dull monotony \\n \\n the sky still wears the crimson streak \\n of sols departing ray \\n some briny drops are on my cheek \\n tis but the salt sea spray \\n then let our barque the ocean roam \\n our keel the billows plough \\n i shed no tears at quitting home \\n nor will i shed them now']"
      ]
     },
     "execution_count": 6,
     "metadata": {},
     "output_type": "execute_result"
    }
   ],
   "source": [
    "poems[0:2]"
   ]
  },
  {
   "cell_type": "code",
   "execution_count": 7,
   "metadata": {},
   "outputs": [
    {
     "data": {
      "text/plain": [
       "(3118, 3118, list)"
      ]
     },
     "execution_count": 7,
     "metadata": {},
     "output_type": "execute_result"
    }
   ],
   "source": [
    "len(titles), len(poems), type(poems)"
   ]
  },
  {
   "cell_type": "code",
   "execution_count": 8,
   "metadata": {},
   "outputs": [],
   "source": [
    "poems = \" \\n \".join(poems)"
   ]
  },
  {
   "cell_type": "code",
   "execution_count": 9,
   "metadata": {},
   "outputs": [
    {
     "data": {
      "text/plain": [
       "(11624217, str)"
      ]
     },
     "execution_count": 9,
     "metadata": {},
     "output_type": "execute_result"
    }
   ],
   "source": [
    "len(poems), type(poems)"
   ]
  },
  {
   "cell_type": "code",
   "execution_count": 10,
   "metadata": {},
   "outputs": [],
   "source": [
    "with open(\"poems_raw.txt\", \"w\") as output:\n",
    "    output.write(poems)"
   ]
  },
  {
   "cell_type": "markdown",
   "metadata": {},
   "source": [
    "# START HERE\n",
    "* Open text string"
   ]
  },
  {
   "cell_type": "code",
   "execution_count": 15,
   "metadata": {},
   "outputs": [
    {
     "data": {
      "text/plain": [
       "'where shall we go for our garlands glad \\n at the falling of the year \\n when the burnt-up banks are yellow and sad \\n when the boughs are yellow and sere \\n where are the old ones that once we had \\n and when are the new ones near \\n what shall we do for our garlands glad \\n at the falling of the year \\n child can i tell where the garlands go \\n can i say where the lost leaves veer \\n on the brown-burnt banks when the wild winds blow \\n when they drift through the dead-wood drear \\n girl when the garlands '"
      ]
     },
     "execution_count": 15,
     "metadata": {},
     "output_type": "execute_result"
    }
   ],
   "source": [
    "f = open(\"poems_raw_some_punct.txt\", \"r\")\n",
    "poems_raw = f.read()\n",
    "poems_raw[:500]"
   ]
  },
  {
   "cell_type": "code",
   "execution_count": 16,
   "metadata": {},
   "outputs": [
    {
     "data": {
      "text/plain": [
       "2066760"
      ]
     },
     "execution_count": 16,
     "metadata": {},
     "output_type": "execute_result"
    }
   ],
   "source": [
    "len(poems_raw.split())"
   ]
  },
  {
   "cell_type": "code",
   "execution_count": 17,
   "metadata": {},
   "outputs": [
    {
     "data": {
      "text/plain": [
       "'where shall we go for our garlands glad airplane at the falling of the year airplane when the burnt-up banks are yellow and sad airplane when the boughs are yellow and sere airplane where are the old ones that once we had airplane and when are the new ones near airplane what shall we do for our garlands glad airplane at the falling of the year airplane child can i tell where the garlands go airplane can i say where the lost leaves veer airplane on the brown-burnt banks when the wild winds blow a'"
      ]
     },
     "execution_count": 17,
     "metadata": {},
     "output_type": "execute_result"
    }
   ],
   "source": [
    "poems_edit = re.sub(r'\\n', 'airplane', poems_raw)\n",
    "poems_edit = re.sub(r'\\t', ' automobile', poems_edit)\n",
    "poems_edit[:500]"
   ]
  },
  {
   "cell_type": "code",
   "execution_count": null,
   "metadata": {},
   "outputs": [],
   "source": [
    "poems_segmented = wordninja.split(poems_edit)\n",
    "poems_segmented[:30]"
   ]
  },
  {
   "cell_type": "code",
   "execution_count": 5,
   "metadata": {},
   "outputs": [
    {
     "data": {
      "text/plain": [
       "['must', 'airplane', 'airplane', 'airplane', 'while']"
      ]
     },
     "execution_count": 5,
     "metadata": {},
     "output_type": "execute_result"
    }
   ],
   "source": [
    "poems_dictionary = defaultdict(list)\n",
    "\n",
    "for current_word, next_word in zip(poems_segmented, poems_segmented[1:]):\n",
    "    poems_dictionary[current_word].append(next_word)\n",
    "\n",
    "poems_dictionary['land'][:5]"
   ]
  },
  {
   "cell_type": "code",
   "execution_count": 6,
   "metadata": {},
   "outputs": [
    {
     "data": {
      "text/plain": [
       "['must', '\\n', '\\n', '\\n', 'while']"
      ]
     },
     "execution_count": 6,
     "metadata": {},
     "output_type": "execute_result"
    }
   ],
   "source": [
    "poems_dictionary = lines_tabs_creator(poems_dictionary)\n",
    "poems_dictionary['\\n'] = poems_dictionary.pop('airplane')\n",
    "poems_dictionary['\\t'] = poems_dictionary.pop('automobile')\n",
    "poems_dictionary['land'][:5]"
   ]
  },
  {
   "cell_type": "code",
   "execution_count": 7,
   "metadata": {},
   "outputs": [],
   "source": [
    "f = open(\"poems_dictionary3.json\",\"w\")\n",
    "f.write(json.dumps(poems_dictionary))\n",
    "f.close()"
   ]
  },
  {
   "cell_type": "code",
   "execution_count": 8,
   "metadata": {},
   "outputs": [],
   "source": [
    "f = open(\"poems_dictionary3.txt\",\"w\")\n",
    "f.write(str(poems_dictionary))\n",
    "f.close()"
   ]
  },
  {
   "cell_type": "markdown",
   "metadata": {},
   "source": [
    "# OPEN DICT AS JSON"
   ]
  },
  {
   "cell_type": "code",
   "execution_count": 9,
   "metadata": {},
   "outputs": [],
   "source": [
    "with open(\"poems_dictionary3.json\", \"r\") as f:\n",
    "    poems_dictionary = json.load(f)"
   ]
  },
  {
   "cell_type": "code",
   "execution_count": 11,
   "metadata": {},
   "outputs": [
    {
     "name": "stdout",
     "output_type": "stream",
     "text": [
      "What length doth thy sweet nothings require? 2000\n",
      "Surely thine sweet nothings require less breadth!\n",
      "Cease skylarking and present me a length of reason! 500\n",
      "\n",
      "\n",
      "\n",
      " attested son of pathos or where amid the pyre \n",
      " \n",
      " him i should blush returns engage \n",
      " while the brand to come ye come court danger free nd lest he went the ship would st thou has given proceed \t \t fear \n",
      " \n",
      " \n",
      " after an eye and cold and the crest \n",
      " until it \n",
      " i marvelled much more swift bor in those three \n",
      " and there no harp that held yet \n",
      " stand the so wi right across his tongue is cold \n",
      " let me on \n",
      " the broken vows are what by the sunny smiles glances meet my style of old os \n",
      " could not appalled but haughty mars \n",
      " the block \n",
      " and time to god the model watch return dear \n",
      " were good ages combating below oh by strength could produce \n",
      " yet still swam round \n",
      " the torn \n",
      " both princes are keeping \n",
      " for prayer o er thou art \n",
      " until ye and groans salt water ever bears no less forgot \n",
      " even to d in term has abundance see that killing one man of hope it enough to him and closest mortal arches \n",
      " or sing \n",
      " alas their ways to hopes or misses an spring from countesses to wait on hills \n",
      " thus thy soft and them \n",
      " another \n",
      " of him save rags unknown \n",
      " chafing water you shall bless them until some rapturous light \n",
      " none is the cost her fathers were busy bustling bother by a ruined rome with terrible maidenhood she her lover to catholic missions \n",
      " but i called it a cie s as these flatterers preach \n",
      " because her aspect look at rest maternity \n",
      " to burn to me it fills his learn \n",
      " how rare at dice and as rise as faucon for the prospect wide wide the man who will i may his men will resolve on and spoke \n",
      " hearing him ride with victory might write \n",
      " in visage \n",
      " the duke his touch \n",
      " content to eternally to obey \n",
      " his may be \n",
      " four corners of the rising day in liberty and thaw \n",
      " rod \n",
      " something new books 3 let this change ful man beat his trophies stain e \n",
      " threw a little cares distressed king \n",
      " i rave \n",
      " corn \n",
      " little after he stood \n",
      " of beasts and all my doom \n",
      " no priest him a ff in very rarely down down to the lowest end it may you mistake you \n",
      " to stars that not soar and rank \n",
      " saw the dense and to sensual sty \n",
      " but truth to check d he madly strikes his cabin ed cloud which human things had too late do i among es \n",
      " brooks and dead \n",
      " the beasts alone i will i am guilty guilt \n",
      " \n",
      " all still neath the flag \n",
      " that all the boy arrested his passion a chill embargo \n",
      " and went mad lier though yet deemed in the flame \n",
      " o\n"
     ]
    }
   ],
   "source": [
    "auto_pometizer(poems_dictionary)"
   ]
  },
  {
   "cell_type": "code",
   "execution_count": 124,
   "metadata": {},
   "outputs": [
    {
     "data": {
      "text/plain": [
       "'!\"#$%&\\'()*+,-./:;<=>?@[\\\\]^_`{|}~'"
      ]
     },
     "execution_count": 124,
     "metadata": {},
     "output_type": "execute_result"
    }
   ],
   "source": [
    "string.punctuation"
   ]
  },
  {
   "cell_type": "code",
   "execution_count": null,
   "metadata": {},
   "outputs": [],
   "source": [
    "from collections import Counter\n",
    "c = Counter(poems_edit.split())\n",
    "c['automobile']"
   ]
  },
  {
   "cell_type": "code",
   "execution_count": 13,
   "metadata": {},
   "outputs": [
    {
     "data": {
      "text/plain": [
       "316707"
      ]
     },
     "execution_count": 13,
     "metadata": {},
     "output_type": "execute_result"
    }
   ],
   "source": [
    "c['airplane']"
   ]
  },
  {
   "cell_type": "code",
   "execution_count": null,
   "metadata": {},
   "outputs": [],
   "source": []
  }
 ],
 "metadata": {
  "kernelspec": {
   "display_name": "Python [conda env:learn-env] *",
   "language": "python",
   "name": "conda-env-learn-env-py"
  },
  "language_info": {
   "codemirror_mode": {
    "name": "ipython",
    "version": 3
   },
   "file_extension": ".py",
   "mimetype": "text/x-python",
   "name": "python",
   "nbconvert_exporter": "python",
   "pygments_lexer": "ipython3",
   "version": "3.6.9"
  }
 },
 "nbformat": 4,
 "nbformat_minor": 2
}
