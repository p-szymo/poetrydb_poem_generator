{
 "cells": [
  {
   "cell_type": "markdown",
   "metadata": {},
   "source": [
    "# Rudimentary poetry generator"
   ]
  },
  {
   "cell_type": "markdown",
   "metadata": {},
   "source": [
    "## *Skip to end of notebook to get straight to generating poetry*\n",
    "* Open json file below (after \"Second milestone!\" cell) and run the function! No need to download anything.\n",
    "* If running the code from the beginning, you may need to install certain packages, such as wordninja."
   ]
  },
  {
   "cell_type": "code",
   "execution_count": null,
   "metadata": {},
   "outputs": [],
   "source": [
    "!pip install wordninja"
   ]
  },
  {
   "cell_type": "markdown",
   "metadata": {},
   "source": [
    "### Import necessary libraries"
   ]
  },
  {
   "cell_type": "code",
   "execution_count": null,
   "metadata": {},
   "outputs": [],
   "source": [
    "from functions import *\n",
    "from collections import defaultdict\n",
    "import string\n",
    "import json\n",
    "import re\n",
    "import random\n",
    "import wordninja"
   ]
  },
  {
   "cell_type": "markdown",
   "metadata": {},
   "source": [
    "### Make API calls and organize"
   ]
  },
  {
   "cell_type": "code",
   "execution_count": null,
   "metadata": {},
   "outputs": [],
   "source": [
    "base_url = \"http://poetrydb.org/author\""
   ]
  },
  {
   "cell_type": "code",
   "execution_count": null,
   "metadata": {},
   "outputs": [],
   "source": [
    "authors = author_grabber(base_url)\n",
    "authors[0]"
   ]
  },
  {
   "cell_type": "code",
   "execution_count": null,
   "metadata": {},
   "outputs": [],
   "source": [
    "titles = [title_grabber(author) for author in authors]\n",
    "titles = [title for sublist in titles for title in sublist]\n",
    "titles[0]"
   ]
  },
  {
   "cell_type": "code",
   "execution_count": null,
   "metadata": {},
   "outputs": [],
   "source": [
    "poems = [poem_grabber(title) for title in titles]"
   ]
  },
  {
   "cell_type": "code",
   "execution_count": null,
   "metadata": {},
   "outputs": [],
   "source": [
    "poems[0:2]"
   ]
  },
  {
   "cell_type": "code",
   "execution_count": null,
   "metadata": {},
   "outputs": [],
   "source": [
    "len(titles), len(poems), type(poems)"
   ]
  },
  {
   "cell_type": "code",
   "execution_count": null,
   "metadata": {},
   "outputs": [],
   "source": [
    "poems = \" \\n \".join(poems)"
   ]
  },
  {
   "cell_type": "code",
   "execution_count": null,
   "metadata": {},
   "outputs": [],
   "source": [
    "len(poems), type(poems)"
   ]
  },
  {
   "cell_type": "code",
   "execution_count": null,
   "metadata": {},
   "outputs": [],
   "source": [
    "with open(\"poems_raw.txt\", \"w\") as output:\n",
    "    output.write(poems)"
   ]
  },
  {
   "cell_type": "markdown",
   "metadata": {},
   "source": [
    "## First milestone! One very long string of poetry.\n",
    "* If you have any adjustments before turning into a dictionary, open the text file and proceed from here."
   ]
  },
  {
   "cell_type": "code",
   "execution_count": 1,
   "metadata": {},
   "outputs": [
    {
     "data": {
      "text/plain": [
       "'where shall we go for our garlands glad \\n at the falling of the year \\n when the burntup banks are yellow and sad \\n when the boughs are yellow and sere \\n where are the old ones that once we had \\n and when are the new ones near \\n what shall we do for our garlands glad \\n at the falling of the year \\n child can i tell where the garlands go \\n can i say where the lost leaves veer \\n on the brownburnt banks when the wild winds blow \\n when they drift through the deadwood drear \\n girl when the garlands of '"
      ]
     },
     "execution_count": 1,
     "metadata": {},
     "output_type": "execute_result"
    }
   ],
   "source": [
    "from functions import *\n",
    "import re\n",
    "import wordninja\n",
    "from collections import defaultdict\n",
    "\n",
    "f = open(\"poems_raw.txt\", \"r\")\n",
    "poems_raw = f.read()\n",
    "poems_raw[:500]"
   ]
  },
  {
   "cell_type": "markdown",
   "metadata": {},
   "source": [
    "* I want to keep the newline and tab characters, so I temporarily change them to different words. Since I'm eventually segmenting the string, I chose two words that don't appear in the poetry (since it's all pre-1900) and that the segmenter will recognize as a single word."
   ]
  },
  {
   "cell_type": "code",
   "execution_count": 2,
   "metadata": {},
   "outputs": [
    {
     "data": {
      "text/plain": [
       "'where shall we go for our garlands glad airplane at the falling of the year airplane when the burntup banks are yellow and sad airplane when the boughs are yellow and sere airplane where are the old ones that once we had airplane and when are the new ones near airplane what shall we do for our garlands glad airplane at the falling of the year airplane child can i tell where the garlands go airplane can i say where the lost leaves veer airplane on the brownburnt banks when the wild winds blow air'"
      ]
     },
     "execution_count": 2,
     "metadata": {},
     "output_type": "execute_result"
    }
   ],
   "source": [
    "poems_edit = re.sub(r'\\n', 'airplane', poems_raw)\n",
    "poems_edit = re.sub(r'\\t', 'automobile', poems_edit)\n",
    "poems_edit[:500]"
   ]
  },
  {
   "cell_type": "code",
   "execution_count": 3,
   "metadata": {},
   "outputs": [
    {
     "data": {
      "text/plain": [
       "['airplane', 'when', 'the', 'burnt', 'up']"
      ]
     },
     "execution_count": 3,
     "metadata": {},
     "output_type": "execute_result"
    }
   ],
   "source": [
    "poems_segmented = wordninja.split(poems_edit)\n",
    "poems_segmented[15:20]"
   ]
  },
  {
   "cell_type": "markdown",
   "metadata": {},
   "source": [
    "* Find any single letters (other than 'a' and 'i' and the very poetic 'o') that are hanging around, as they detract from the generated poems.\n",
    "\n",
    "* Replace them with 'automobile', which is currently the equivalent of '\\t', because you can never have enough tabs when trying to make a poem look more contemporary :P"
   ]
  },
  {
   "cell_type": "code",
   "execution_count": 4,
   "metadata": {},
   "outputs": [],
   "source": [
    "single_letters = ['b','c','d','e','f','g','h','j','k','l','m','n','p','q','r','s','t','u','v','w','x','y','z']\n",
    "poems_segmented = [word if word not in single_letters else word.replace(word, 'automobile') for word in poems_segmented]"
   ]
  },
  {
   "cell_type": "markdown",
   "metadata": {},
   "source": [
    "* Create a dictionary with each word present in the word list (poems_segmented) as the key and each word that follows that now-key as part of a list of values."
   ]
  },
  {
   "cell_type": "code",
   "execution_count": 5,
   "metadata": {},
   "outputs": [
    {
     "data": {
      "text/plain": [
       "['must', 'airplane', 'airplane', 'airplane', 'while']"
      ]
     },
     "execution_count": 5,
     "metadata": {},
     "output_type": "execute_result"
    }
   ],
   "source": [
    "poems_dictionary = defaultdict(list)\n",
    "\n",
    "for current_word, next_word in zip(poems_segmented, poems_segmented[1:]):\n",
    "    poems_dictionary[current_word].append(next_word)\n",
    "\n",
    "poems_dictionary['land'][:5]"
   ]
  },
  {
   "cell_type": "markdown",
   "metadata": {},
   "source": [
    "* After changing the 'airplane' and 'automobile' values back to newline and tab characters via the lines_tabs_creator function, I change their respective keys in the dictionary accordingly."
   ]
  },
  {
   "cell_type": "code",
   "execution_count": 6,
   "metadata": {},
   "outputs": [
    {
     "data": {
      "text/plain": [
       "['must', '\\n', '\\n', '\\n', 'while']"
      ]
     },
     "execution_count": 6,
     "metadata": {},
     "output_type": "execute_result"
    }
   ],
   "source": [
    "poems_dictionary = lines_tabs_creator(poems_dictionary)\n",
    "poems_dictionary['\\n'] = poems_dictionary.pop('airplane')\n",
    "poems_dictionary['\\t'] = poems_dictionary.pop('automobile')\n",
    "poems_dictionary['land'][:5]"
   ]
  },
  {
   "cell_type": "code",
   "execution_count": null,
   "metadata": {},
   "outputs": [],
   "source": [
    "f = open(\"poems_dictionary.json\",\"w\")\n",
    "f.write(json.dumps(poems_dictionary))\n",
    "f.close()"
   ]
  },
  {
   "cell_type": "markdown",
   "metadata": {},
   "source": [
    "## Second milestone! One very big dictionary.\n",
    "* If you want to get right to generating some poems, proceed from here and run the auto_pometizer function after opening the json file."
   ]
  },
  {
   "cell_type": "code",
   "execution_count": null,
   "metadata": {},
   "outputs": [],
   "source": [
    "from functions import *\n",
    "import json\n",
    "\n",
    "with open(\"poems_dictionary.json\", \"r\") as f:\n",
    "    poems_dictionary = json.load(f)"
   ]
  },
  {
   "cell_type": "code",
   "execution_count": 10,
   "metadata": {},
   "outputs": [
    {
     "name": "stdout",
     "output_type": "stream",
     "text": [
      "What length doth thy sweet nothings require? 1000\n",
      "\n",
      "\n",
      "\n",
      " pretender \n",
      " that ever since he wandered lonely way \n",
      " \t \n",
      " my vision \n",
      " \t \n",
      " and plains the skies \n",
      " inter space \n",
      " like gossips over valleys with rich streams \n",
      " blooming as they mock that tongue \n",
      " to my daughter of fight \n",
      " i die \n",
      " the lord \n",
      " hen coops spars of this tale distressing \n",
      " \t aye myrrh a lord you look or flower lie it \n",
      " and shares thy brain stood disinclined \n",
      " softly into the kye \n",
      " \t \t \n",
      " now of the cold \n",
      " nor owes \n",
      " to mischief spread round \n",
      " lor answer now lord of his restless sea \n",
      " circling through ages aw \n",
      " beyond the ridges roaring verse that hears \n",
      " than ever fresh rainbow of such as they won them not \n",
      " how that loudest sing ring upon a stranger things here is not why should see the 16 \n",
      " and then nay ask him in al ham a west \n",
      " at perilous hour was turned back through the blood puddings \n",
      " and goods to right in the mockingbird \t \n",
      " strong drink than stone besides they talk wildly and soon thy mind a page till those i seek \n",
      " \t \n",
      " troops the hearts were it felt \n",
      " \t hi \t \t rain come tis their looks the pleading sigh \t anse the patron saint peter \n",
      " and hearkens to stop \n",
      " who within these altars grown familiar with this hour in orb of jesters \n",
      " where thine arms came swelling tide us with disdain not show \n",
      " so destroy \n",
      " immortal forms \n",
      " with men \n",
      " in agony with me scarce less grove \n",
      " were common linguists and be seen \n",
      " when he was cautious hinges ton an old man you in age \n",
      " of \t \t \n",
      " \t \n",
      " the themes enough \n",
      " great honour and he was i den after cape \n",
      " near to see the knight at first thought its sightless head \n",
      " i shall be \t \t \t and night came \n",
      " rises o malta \t the worlds thou \n",
      " it that plot of thousands like to thy counsel and i am a mercury \n",
      " and seem more faint was broiling from titans bride \n",
      " \t wound he broke open space of whose fire god bless god made her woes \n",
      " so might after \n",
      " semblance and the ground \n",
      " cain that there \n",
      " \t if that ghosts \n",
      " nor for my heart i like snow white mirth or dead \t \n",
      " bacchus blessings on two and play \n",
      " he on him mar \t \t arable and found \n",
      " myr \t and a wilderness \n",
      " as i bent down the beloved no if tenderness joy \n",
      " out thy jocund to foot upon thy glorious power \t hands in a land travel as i must be their returning there \t the coal \n",
      " and white \n",
      " twill be thy name \n",
      " whole inside returns \n",
      " paint the greatest of things it \n",
      " \t \n",
      " and pillowed on gentle hands delighted the windowsill \n",
      " when his need es \t and start and tinkles as far awa \n",
      " nor did of the misty mountain wild weed out of excellence of social union \n",
      " to \t \t \n",
      " my cares \n",
      " they have seemed his forehead they hostelry a of the worst there are over worn about \n",
      " whilst among \n",
      " by force or wasting flame with desire \n",
      " have time and young man the tear \n",
      " to hold \n",
      " of clouds \n",
      " against the hymen a rejoice with an \n",
      " by whose last moments be \n",
      " alp turned in a blessing never shall listen to persecutions rage \n",
      " of martyrs by god \n",
      " cain \n",
      " the coliseums wall of \t \n",
      " he not always their small if that mix their love of the \t the woe \n",
      " \t \t the task was in short bright \n",
      " \t \n",
      " and only stand eth yo \t \t \n",
      " a contentious world the lord jesus virgin bloom and wondrous story \t the watery clouds would each ephemeral insect floating shades \n",
      " the liquorice or hate \n",
      " of milk of a tale man so shook his life full of priest of man \n",
      " \t \n",
      " which our home \n",
      " the lus ian \t \n",
      " and chink \n",
      " \t way \n",
      " the outhouse of peace and fare the nation every form \t \n",
      " may accuse \n",
      " \t \t \t \t \t \t \t \t \n",
      " as gods his eye \n",
      " to mourn \t hold \t drops a drink drink of the homestead \n",
      " enough of gold \n",
      " first \n",
      " like wasps hive \n",
      " but no reprisals can seize his grave where of turning eyeballs burn out the bloody attire and well it went swaying to mend mine to some living home were lying on the poplar tops quivering tongue is left him \t \t \n",
      " and set \n",
      " sweet \n",
      " there \n",
      " through every cranny \n",
      " where with airy step ran the very true no narrow \n",
      " \t \t \n",
      " on each one short and of the prophets old mill foot i \t that i we talked confusedly i will bequeath \n",
      " i will allow me \n",
      " of blame the indian hordes \n",
      " oh \n",
      " softly flutes of the little eyes \n",
      " except their fear no time thou for thirst but surety \n",
      " enriched the which these \n",
      " of life and all have we are dry ven in opinion of luminous azure brow \n",
      " a stately queen is bretagne and when i have it is not my rest \n",
      " where so brave intent \n",
      " well this commend to find this nae mair maids with praise \n",
      " \t ol nothing affected their outward sufferings take your slave of the road \n",
      " \t \t \t \n",
      " the hairs \n",
      " thou know the cap from his beast \n",
      " for \n",
      " \t antelope \t \n",
      " but never \t a foolish hens \n",
      " \t \n",
      " thou wert indeed i appeal from dust \n",
      " \t \t\n"
     ]
    }
   ],
   "source": [
    "auto_pometizer(poems_dictionary)"
   ]
  },
  {
   "cell_type": "markdown",
   "metadata": {},
   "source": [
    "## Final milestone for now! First poetry generator."
   ]
  }
 ],
 "metadata": {
  "kernelspec": {
   "display_name": "Python [conda env:learn-env] *",
   "language": "python",
   "name": "conda-env-learn-env-py"
  },
  "language_info": {
   "codemirror_mode": {
    "name": "ipython",
    "version": 3
   },
   "file_extension": ".py",
   "mimetype": "text/x-python",
   "name": "python",
   "nbconvert_exporter": "python",
   "pygments_lexer": "ipython3",
   "version": "3.6.9"
  }
 },
 "nbformat": 4,
 "nbformat_minor": 2
}
