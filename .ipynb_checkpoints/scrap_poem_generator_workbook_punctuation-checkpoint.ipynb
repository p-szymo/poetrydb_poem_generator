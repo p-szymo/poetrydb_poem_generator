{
 "cells": [
  {
   "cell_type": "code",
   "execution_count": 1,
   "metadata": {},
   "outputs": [],
   "source": [
    "from scrap_functions import *\n",
    "from collections import defaultdict\n",
    "import string\n",
    "import json\n",
    "import re\n",
    "import random"
   ]
  },
  {
   "cell_type": "code",
   "execution_count": 2,
   "metadata": {},
   "outputs": [],
   "source": [
    "base_url = \"http://poetrydb.org/author\""
   ]
  },
  {
   "cell_type": "code",
   "execution_count": 3,
   "metadata": {},
   "outputs": [
    {
     "data": {
      "text/plain": [
       "'Adam Lindsay Gordon'"
      ]
     },
     "execution_count": 3,
     "metadata": {},
     "output_type": "execute_result"
    }
   ],
   "source": [
    "authors = author_grabber(base_url)\n",
    "authors[0]"
   ]
  },
  {
   "cell_type": "code",
   "execution_count": 4,
   "metadata": {},
   "outputs": [
    {
     "data": {
      "text/plain": [
       "'A Song of Autumn'"
      ]
     },
     "execution_count": 4,
     "metadata": {},
     "output_type": "execute_result"
    }
   ],
   "source": [
    "titles = [title_grabber(author) for author in authors]\n",
    "titles = [title for sublist in titles for title in sublist]\n",
    "titles[0]"
   ]
  },
  {
   "cell_type": "code",
   "execution_count": 5,
   "metadata": {},
   "outputs": [],
   "source": [
    "poems = [poem_grabber(title) for title in titles]"
   ]
  },
  {
   "cell_type": "code",
   "execution_count": 6,
   "metadata": {},
   "outputs": [
    {
     "data": {
      "text/plain": [
       "['where shall we go for our garlands glad \\n at the falling of the year \\n when the burnt-up banks are yellow and sad \\n when the boughs are yellow and sere \\n where are the old ones that once we had \\n and when are the new ones near \\n what shall we do for our garlands glad \\n at the falling of the year \\n child can i tell where the garlands go \\n can i say where the lost leaves veer \\n on the brown-burnt banks when the wild winds blow \\n when they drift through the dead-wood drear \\n girl when the garlands of next year glow \\n you may gather again my dear \\n but i go where the last years lost leaves go \\n at the falling of the year',\n",
       " \"the ocean heaves around us still \\n with long and measured swell \\n the autumn gales our canvas fill \\n our ship rides smooth and well \\n the broad atlantic's bed of foam \\n still breaks against our prow \\n i shed no tears at quitting home \\n nor will i shed them now \\n\\t \\n against the bulwarks on the poop \\n i lean and watch the sun \\n behind the red horizon stoop  \\n his race is nearly run \\n those waves will never quench his light \\n o'er which they seem to close \\n to-morrow he will rise as bright \\n as he this morning rose \\n\\t \\n how brightly gleams the orb of day \\n across the trackless sea \\n how lightly dance the waves that play \\n like dolphins in our lee \\n the restless waters seem to say \\n in smothered tones to me \\n how many thousand miles away \\n my native land must be \\n\\t \\n speak ocean is my home the same \\n now all is new to me  \\n the tropic sky's resplendent flame \\n the vast expanse of sea \\n does all around her yet unchanged \\n the well-known aspect wear \\n oh can the leagues that i have ranged \\n have made no difference there \\n\\t \\n how vivid recollection's hand \\n recalls the scene once more \\n i see the same tall poplars stand \\n beside the garden door \\n i see the bird-cage hanging still \\n and where my sister set \\n the flowers in the window-sill  \\n can they be living yet \\n\\t \\n let woman's nature cherish grief \\n i rarely heave a sigh \\n before emotion takes relief \\n in listless apathy \\n while from my pipe the vapours curl \\n towards the evening sky \\n and 'neath my feet the billows whirl \\n in dull monotony \\n\\t \\n the sky still wears the crimson streak \\n of sol's departing ray \\n some briny drops are on my cheek \\n 'tis but the salt sea spray \\n then let our barque the ocean roam \\n our keel the billows plough \\n i shed no tears at quitting home \\n nor will i shed them now\"]"
      ]
     },
     "execution_count": 6,
     "metadata": {},
     "output_type": "execute_result"
    }
   ],
   "source": [
    "poems[0:2]"
   ]
  },
  {
   "cell_type": "code",
   "execution_count": 7,
   "metadata": {},
   "outputs": [
    {
     "data": {
      "text/plain": [
       "(3118, 3118, list)"
      ]
     },
     "execution_count": 7,
     "metadata": {},
     "output_type": "execute_result"
    }
   ],
   "source": [
    "len(titles), len(poems), type(poems)"
   ]
  },
  {
   "cell_type": "code",
   "execution_count": 8,
   "metadata": {},
   "outputs": [],
   "source": [
    "poems = \" \\n \".join(poems)"
   ]
  },
  {
   "cell_type": "code",
   "execution_count": 9,
   "metadata": {},
   "outputs": [
    {
     "data": {
      "text/plain": [
       "(11810921, str)"
      ]
     },
     "execution_count": 9,
     "metadata": {},
     "output_type": "execute_result"
    }
   ],
   "source": [
    "len(poems), type(poems)"
   ]
  },
  {
   "cell_type": "code",
   "execution_count": 10,
   "metadata": {},
   "outputs": [],
   "source": [
    "with open(\"poems_raw_some_punct.txt\", \"w\") as output:\n",
    "    output.write(poems)"
   ]
  },
  {
   "cell_type": "markdown",
   "metadata": {},
   "source": [
    "# START HERE\n",
    "* Open text string"
   ]
  },
  {
   "cell_type": "code",
   "execution_count": 38,
   "metadata": {},
   "outputs": [
    {
     "data": {
      "text/plain": [
       "'where shall we go for our garlands glad \\n at the falling of the year \\n when the burnt-up banks are yellow and sad \\n when the boughs are yellow and sere \\n where are the old ones that once we had \\n and when are the new ones near \\n what shall we do for our garlands glad \\n at the falling of the year \\n child can i tell where the garlands go \\n can i say where the lost leaves veer \\n on the brown-burnt banks when the wild winds blow \\n when they drift through the dead-wood drear \\n girl when the garlands '"
      ]
     },
     "execution_count": 38,
     "metadata": {},
     "output_type": "execute_result"
    }
   ],
   "source": [
    "f = open(\"poems_raw_some_punct.txt\", \"r\")\n",
    "poems_raw = f.read()\n",
    "poems_raw[:500]"
   ]
  },
  {
   "cell_type": "code",
   "execution_count": 39,
   "metadata": {},
   "outputs": [
    {
     "data": {
      "text/plain": [
       "'where shall we go for our garlands glad x2 at the falling of the year x2 when the burnt-up banks are yellow and sad x2 when the boughs are yellow and sere x2 where are the old ones that once we had x2 and when are the new ones near x2 what shall we do for our garlands glad x2 at the falling of the year x2 child can i tell where the garlands go x2 can i say where the lost leaves veer x2 on the brown-burnt banks when the wild winds blow x2 when they drift through the dead-wood drear x2 girl when t'"
      ]
     },
     "execution_count": 39,
     "metadata": {},
     "output_type": "execute_result"
    }
   ],
   "source": [
    "poems_edit = re.sub(r'\\n', 'x2', poems_raw)\n",
    "poems_edit = re.sub(r'\\t', ' y2', poems_edit)\n",
    "poems_edit[:500]"
   ]
  },
  {
   "cell_type": "code",
   "execution_count": 41,
   "metadata": {},
   "outputs": [],
   "source": [
    "mod_punct = '!\"#$%\\()*+,./:;<=>?@[\\\\]^_`{|}~'"
   ]
  },
  {
   "cell_type": "code",
   "execution_count": 42,
   "metadata": {},
   "outputs": [
    {
     "data": {
      "text/plain": [
       "['x2', 'when', 'the', 'burnt-up', 'banks']"
      ]
     },
     "execution_count": 42,
     "metadata": {},
     "output_type": "execute_result"
    }
   ],
   "source": [
    "poems_edit = poems_edit.translate({ord(x):None for x in mod_punct}).split()\n",
    "poems_edit[15:20]"
   ]
  },
  {
   "cell_type": "code",
   "execution_count": 43,
   "metadata": {},
   "outputs": [
    {
     "data": {
      "text/plain": [
       "['x2']"
      ]
     },
     "execution_count": 43,
     "metadata": {},
     "output_type": "execute_result"
    }
   ],
   "source": [
    "poems_dictionary_punct = defaultdict(list)\n",
    "\n",
    "for current_word, next_word in zip(poems_edit, poems_edit[1:]):\n",
    "    poems_dictionary_punct[current_word].append(next_word)\n",
    "\n",
    "poems_dictionary_punct['nabob-land']"
   ]
  },
  {
   "cell_type": "code",
   "execution_count": 44,
   "metadata": {},
   "outputs": [
    {
     "data": {
      "text/plain": [
       "['\\n']"
      ]
     },
     "execution_count": 44,
     "metadata": {},
     "output_type": "execute_result"
    }
   ],
   "source": [
    "poems_dictionary_punct = lines_tabs_creator(poems_dictionary_punct)\n",
    "poems_dictionary_punct['\\n'] = poems_dictionary_punct.pop('x2')\n",
    "poems_dictionary_punct['\\t'] = poems_dictionary_punct.pop('y2')\n",
    "poems_dictionary_punct['nabob-land']"
   ]
  },
  {
   "cell_type": "code",
   "execution_count": 45,
   "metadata": {},
   "outputs": [],
   "source": [
    "f = open(\"poems_dictionary_some_punct.json\",\"w\")\n",
    "f.write(json.dumps(poems_dictionary_punct))\n",
    "f.close()"
   ]
  },
  {
   "cell_type": "code",
   "execution_count": 46,
   "metadata": {},
   "outputs": [],
   "source": [
    "f = open(\"poems_dictionary_some_punct.txt\",\"w\")\n",
    "f.write(str(poems_dictionary_punct))\n",
    "f.close()"
   ]
  },
  {
   "cell_type": "markdown",
   "metadata": {},
   "source": [
    "# OPEN DICT AS JSON"
   ]
  },
  {
   "cell_type": "code",
   "execution_count": 47,
   "metadata": {},
   "outputs": [],
   "source": [
    "with open(\"poems_dictionary_some_punct.json\", \"r\") as f:\n",
    "    poems_dictionary_punct = json.load(f)"
   ]
  },
  {
   "cell_type": "code",
   "execution_count": 48,
   "metadata": {},
   "outputs": [
    {
     "name": "stdout",
     "output_type": "stream",
     "text": [
      "What length doth thy sweet nothings require? 500\n",
      "\n",
      "\n",
      "\n",
      " occasion'd by my thought her hands off the burning breast \n",
      " speaks his eyes \n",
      " and i planted \n",
      " for thy love a mind the terror madness impious war \n",
      " thy glories with all things surest wayfor ladies thank for one of horse \n",
      " \t till that pallas walls have a man \n",
      " \t \n",
      " through middle darkness grope a hate and day \n",
      " \t \t \t \t together \n",
      " and felt \n",
      " pleased at present \n",
      " would not \n",
      " and wood-men with its voluptuous rage of home to tarry rope descend \n",
      " of bliss \n",
      " or two long years that love aye but drink and cap and heroes and are half-way down of desolation \n",
      " a champion \n",
      " our solar-round \n",
      " and earth has been born to south inch a priest and wept \n",
      " or remote but the horses \n",
      " and goodness in pain \n",
      " \t \t and charming syllables \n",
      " in light and in lordship or fly \n",
      " until latelybut since what shall cheat and lest through ether \n",
      " from whose premature grave i doon hem \n",
      " what merit more before \n",
      " for whose right at least was married enid and red it is the swallow all his counsel all he seeks from self dost thou hast the forms that cast round as free \n",
      " sways the breath that thow hast beheld adored with these causes the dauntless just playd a sonnet to literature and dies with \n",
      " rose this yet without the touch'd but they prepare \n",
      " so just allah forbid to profit daily doth find \n",
      " poignant sauce deep conceal'd \n",
      " \t \t \n",
      " while reverend was borne the foam and myne i thought to be sent with inky thumbs \n",
      " the hidden want a sentimental friendship from duty for their exchanging glances on my fault \n",
      " \t \n",
      " from paumanock starting but most beautiful new ones stories tell him \n",
      " \t unlook'd for patience \n",
      " and as we least given \n",
      " yet from the bifallinge \n",
      " the height afar \n",
      " \t \t closet flew \n",
      " \t \t \t \n",
      " through many a man in his knave child is o'er life and fugitives for variety of colours were in the fly-away horse he wel coude telle somedeal more than lara called ever i should learn \n",
      " and glorious face \n",
      " except in dark seeds \n",
      " \t \n",
      " \t \t \t i say where as will i stand aye the mingling vespers will and trusting heart broke on transient flash brand \n",
      " by alloways auld folks who quelled \n",
      " \t \t \t \t the keys of crime \n",
      " or sweet blossoms richly clad like bedlam i tasted lost leaves of fate most sorrow pours \n",
      " and all things best of our prey he and die \n",
      " \t \t \t \n",
      " of each sound through azo's tortured mine and is the wrath \n",
      " damsels sung \n",
      " and crabs hiss triumph o'er each charming sissy knott \n",
      " \t \n",
      " but the nangkita swallow up thro the law of liberty\n"
     ]
    }
   ],
   "source": [
    "auto_pometizer(poems_dictionary_punct)"
   ]
  }
 ],
 "metadata": {
  "kernelspec": {
   "display_name": "Python [conda env:learn-env] *",
   "language": "python",
   "name": "conda-env-learn-env-py"
  },
  "language_info": {
   "codemirror_mode": {
    "name": "ipython",
    "version": 3
   },
   "file_extension": ".py",
   "mimetype": "text/x-python",
   "name": "python",
   "nbconvert_exporter": "python",
   "pygments_lexer": "ipython3",
   "version": "3.6.9"
  }
 },
 "nbformat": 4,
 "nbformat_minor": 2
}
